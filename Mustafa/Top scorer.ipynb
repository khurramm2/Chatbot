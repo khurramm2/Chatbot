{
 "cells": [
  {
   "cell_type": "code",
   "execution_count": 123,
   "id": "09658aef",
   "metadata": {},
   "outputs": [],
   "source": [
    "import pandas as pd\n",
    "from collections import defaultdict"
   ]
  },
  {
   "cell_type": "code",
   "execution_count": null,
   "id": "7867c4e0",
   "metadata": {},
   "outputs": [],
   "source": []
  },
  {
   "cell_type": "code",
   "execution_count": 124,
   "id": "91940acf",
   "metadata": {},
   "outputs": [
    {
     "name": "stdout",
     "output_type": "stream",
     "text": [
      "<class 'dict'>\n",
      "{'get': 'players/topscorers', 'parameters': {'league': '39', 'season': '2022'}, 'errors': [], 'results': 20, 'paging': {'current': 0, 'total': 1}, 'response': [{'player': {'id': 1100, 'name': 'E. Haaland', 'firstname': 'Erling', 'lastname': 'Braut Haaland', 'age': 22, 'birth': {'date': '2000-07-21', 'place': 'Leeds', 'country': 'England'}, 'nationality': 'Norway', 'height': '194 cm', 'weight': '88 kg', 'injured': False, 'photo': 'https://media.api-sports.io/football/players/1100.png'}, 'statistics': [{'team': {'id': 50, 'name': 'Manchester City', 'logo': 'https://media.api-sports.io/football/teams/50.png'}, 'league': {'id': 39, 'name': 'Premier League', 'country': 'England', 'logo': 'https://media.api-sports.io/football/leagues/39.png', 'flag': 'https://media.api-sports.io/flags/gb.svg', 'season': 2022}, 'games': {'appearences': 12, 'lineups': 11, 'minutes': 951, 'number': None, 'position': 'Attacker', 'rating': '7.891666', 'captain': False}, 'substitutes': {'in': 1, 'out': 5, 'bench': 1}, 'shots': {'total': 43, 'on': 28}, 'goals': {'total': 18, 'conceded': 0, 'assists': 3, 'saves': None}, 'passes': {'total': 168, 'key': 11, 'accuracy': 10}, 'tackles': {'total': 1, 'blocks': None, 'interceptions': 1}, 'duels': {'total': 62, 'won': 23}, 'dribbles': {'attempts': 11, 'success': 4, 'past': None}, 'fouls': {'drawn': 9, 'committed': 8}, 'cards': {'yellow': 1, 'yellowred': 0, 'red': 0}, 'penalty': {'won': None, 'commited': None, 'scored': 3, 'missed': 0, 'saved': None}}]}, {'player': {'id': 184, 'name': 'H. Kane', 'firstname': 'Harry Edward', 'lastname': 'Kane', 'age': 29, 'birth': {'date': '1993-07-28', 'place': 'London', 'country': 'England'}, 'nationality': 'England', 'height': '188 cm', 'weight': '86 kg', 'injured': False, 'photo': 'https://media.api-sports.io/football/players/184.png'}, 'statistics': [{'team': {'id': 47, 'name': 'Tottenham', 'logo': 'https://media.api-sports.io/football/teams/47.png'}, 'league': {'id': 39, 'name': 'Premier League', 'country': 'England', 'logo': 'https://media.api-sports.io/football/leagues/39.png', 'flag': 'https://media.api-sports.io/flags/gb.svg', 'season': 2022}, 'games': {'appearences': 14, 'lineups': 14, 'minutes': 1248, 'number': None, 'position': 'Attacker', 'rating': '7.378571', 'captain': False}, 'substitutes': {'in': 0, 'out': 3, 'bench': 0}, 'shots': {'total': 38, 'on': 26}, 'goals': {'total': 11, 'conceded': 0, 'assists': 1, 'saves': None}, 'passes': {'total': 305, 'key': 26, 'accuracy': 15}, 'tackles': {'total': 4, 'blocks': 3, 'interceptions': None}, 'duels': {'total': 153, 'won': 54}, 'dribbles': {'attempts': 37, 'success': 13, 'past': None}, 'fouls': {'drawn': 19, 'committed': 10}, 'cards': {'yellow': 4, 'yellowred': 0, 'red': 0}, 'penalty': {'won': None, 'commited': None, 'scored': 2, 'missed': 1, 'saved': None}}]}, {'player': {'id': 2825, 'name': 'A. Mitrović', 'firstname': 'Aleksandar', 'lastname': 'Mitrović', 'age': 28, 'birth': {'date': '1994-09-16', 'place': 'Smederevo', 'country': 'Serbia'}, 'nationality': 'Serbia', 'height': '187 cm', 'weight': '90 kg', 'injured': False, 'photo': 'https://media.api-sports.io/football/players/2825.png'}, 'statistics': [{'team': {'id': 36, 'name': 'Fulham', 'logo': 'https://media.api-sports.io/football/teams/36.png'}, 'league': {'id': 39, 'name': 'Premier League', 'country': 'England', 'logo': 'https://media.api-sports.io/football/leagues/39.png', 'flag': 'https://media.api-sports.io/flags/gb.svg', 'season': 2022}, 'games': {'appearences': 12, 'lineups': 12, 'minutes': 1021, 'number': None, 'position': 'Attacker', 'rating': '7.333333', 'captain': False}, 'substitutes': {'in': 0, 'out': 5, 'bench': 0}, 'shots': {'total': 45, 'on': 22}, 'goals': {'total': 9, 'conceded': 0, 'assists': None, 'saves': None}, 'passes': {'total': 236, 'key': 11, 'accuracy': 11}, 'tackles': {'total': 9, 'blocks': 3, 'interceptions': 1}, 'duels': {'total': 206, 'won': 99}, 'dribbles': {'attempts': 24, 'success': 13, 'past': None}, 'fouls': {'drawn': 15, 'committed': 13}, 'cards': {'yellow': 4, 'yellowred': 0, 'red': 0}, 'penalty': {'won': None, 'commited': None, 'scored': 3, 'missed': 1, 'saved': None}}]}, {'player': {'id': 2507, 'name': 'M. Almirón', 'firstname': 'Miguel Ángel', 'lastname': 'Almirón Rejala', 'age': 28, 'birth': {'date': '1994-02-10', 'place': 'Asunción', 'country': 'Paraguay'}, 'nationality': 'Paraguay', 'height': '174 cm', 'weight': '63 kg', 'injured': False, 'photo': 'https://media.api-sports.io/football/players/2507.png'}, 'statistics': [{'team': {'id': 34, 'name': 'Newcastle', 'logo': 'https://media.api-sports.io/football/teams/34.png'}, 'league': {'id': 39, 'name': 'Premier League', 'country': 'England', 'logo': 'https://media.api-sports.io/football/leagues/39.png', 'flag': 'https://media.api-sports.io/flags/gb.svg', 'season': 2022}, 'games': {'appearences': 14, 'lineups': 14, 'minutes': 1174, 'number': None, 'position': 'Midfielder', 'rating': '7.171428', 'captain': False}, 'substitutes': {'in': 0, 'out': 10, 'bench': 0}, 'shots': {'total': 22, 'on': 13}, 'goals': {'total': 8, 'conceded': 0, 'assists': None, 'saves': None}, 'passes': {'total': 415, 'key': 10, 'accuracy': 25}, 'tackles': {'total': 21, 'blocks': 2, 'interceptions': 2}, 'duels': {'total': 89, 'won': 47}, 'dribbles': {'attempts': 30, 'success': 13, 'past': None}, 'fouls': {'drawn': 11, 'committed': 9}, 'cards': {'yellow': 0, 'yellowred': 0, 'red': 0}, 'penalty': {'won': None, 'commited': None, 'scored': 0, 'missed': 0, 'saved': None}}]}, {'player': {'id': 19974, 'name': 'I. Toney', 'firstname': 'Ivan', 'lastname': 'Toney', 'age': 26, 'birth': {'date': '1996-03-16', 'place': 'Northampton', 'country': 'England'}, 'nationality': 'England', 'height': '179 cm', 'weight': '70 kg', 'injured': False, 'photo': 'https://media.api-sports.io/football/players/19974.png'}, 'statistics': [{'team': {'id': 55, 'name': 'Brentford', 'logo': 'https://media.api-sports.io/football/teams/55.png'}, 'league': {'id': 39, 'name': 'Premier League', 'country': 'England', 'logo': 'https://media.api-sports.io/football/leagues/39.png', 'flag': 'https://media.api-sports.io/flags/gb.svg', 'season': 2022}, 'games': {'appearences': 13, 'lineups': 13, 'minutes': 1170, 'number': None, 'position': 'Attacker', 'rating': '7.323076', 'captain': False}, 'substitutes': {'in': 0, 'out': 0, 'bench': 0}, 'shots': {'total': 31, 'on': 14}, 'goals': {'total': 8, 'conceded': 0, 'assists': 2, 'saves': None}, 'passes': {'total': 283, 'key': 14, 'accuracy': 14}, 'tackles': {'total': 11, 'blocks': 2, 'interceptions': 5}, 'duels': {'total': 177, 'won': 76}, 'dribbles': {'attempts': 18, 'success': 5, 'past': None}, 'fouls': {'drawn': 24, 'committed': 21}, 'cards': {'yellow': 5, 'yellowred': 0, 'red': 0}, 'penalty': {'won': None, 'commited': None, 'scored': 3, 'missed': 0, 'saved': None}}]}, {'player': {'id': 1946, 'name': 'L. Trossard', 'firstname': 'Leandro', 'lastname': 'Trossard', 'age': 28, 'birth': {'date': '1994-12-04', 'place': 'Waterschei', 'country': 'Belgium'}, 'nationality': 'Belgium', 'height': '171 cm', 'weight': '61 kg', 'injured': False, 'photo': 'https://media.api-sports.io/football/players/1946.png'}, 'statistics': [{'team': {'id': 51, 'name': 'Brighton', 'logo': 'https://media.api-sports.io/football/teams/51.png'}, 'league': {'id': 39, 'name': 'Premier League', 'country': 'England', 'logo': 'https://media.api-sports.io/football/leagues/39.png', 'flag': 'https://media.api-sports.io/flags/gb.svg', 'season': 2022}, 'games': {'appearences': 13, 'lineups': 13, 'minutes': 1093, 'number': None, 'position': 'Attacker', 'rating': '7.200000', 'captain': False}, 'substitutes': {'in': 0, 'out': 9, 'bench': 0}, 'shots': {'total': 22, 'on': 15}, 'goals': {'total': 7, 'conceded': 0, 'assists': 2, 'saves': None}, 'passes': {'total': 389, 'key': 20, 'accuracy': 22}, 'tackles': {'total': 10, 'blocks': None, 'interceptions': 6}, 'duels': {'total': 95, 'won': 37}, 'dribbles': {'attempts': 28, 'success': 10, 'past': None}, 'fouls': {'drawn': 12, 'committed': 7}, 'cards': {'yellow': 1, 'yellowred': 0, 'red': 0}, 'penalty': {'won': None, 'commited': None, 'scored': 0, 'missed': 0, 'saved': None}}]}, {'player': {'id': 631, 'name': 'P. Foden', 'firstname': 'Philip Walter', 'lastname': 'Foden', 'age': 22, 'birth': {'date': '2000-05-28', 'place': 'Stockport', 'country': 'England'}, 'nationality': 'England', 'height': '171 cm', 'weight': '70 kg', 'injured': False, 'photo': 'https://media.api-sports.io/football/players/631.png'}, 'statistics': [{'team': {'id': 50, 'name': 'Manchester City', 'logo': 'https://media.api-sports.io/football/teams/50.png'}, 'league': {'id': 39, 'name': 'Premier League', 'country': 'England', 'logo': 'https://media.api-sports.io/football/leagues/39.png', 'flag': 'https://media.api-sports.io/flags/gb.svg', 'season': 2022}, 'games': {'appearences': 13, 'lineups': 10, 'minutes': 821, 'number': None, 'position': 'Midfielder', 'rating': '7.407692', 'captain': False}, 'substitutes': {'in': 3, 'out': 6, 'bench': 3}, 'shots': {'total': 17, 'on': 12}, 'goals': {'total': 6, 'conceded': 0, 'assists': 3, 'saves': None}, 'passes': {'total': 464, 'key': 19, 'accuracy': 30}, 'tackles': {'total': 10, 'blocks': 1, 'interceptions': 3}, 'duels': {'total': 82, 'won': 37}, 'dribbles': {'attempts': 20, 'success': 9, 'past': None}, 'fouls': {'drawn': 12, 'committed': 3}, 'cards': {'yellow': 1, 'yellowred': 0, 'red': 0}, 'penalty': {'won': None, 'commited': None, 'scored': 0, 'missed': 0, 'saved': None}}]}, {'player': {'id': 302, 'name': 'Roberto Firmino', 'firstname': 'Roberto Firmino', 'lastname': 'Barbosa de Oliveira', 'age': 31, 'birth': {'date': '1991-10-02', 'place': 'Maceió', 'country': 'Brazil'}, 'nationality': 'Brazil', 'height': '181 cm', 'weight': '76 kg', 'injured': False, 'photo': 'https://media.api-sports.io/football/players/302.png'}, 'statistics': [{'team': {'id': 40, 'name': 'Liverpool', 'logo': 'https://media.api-sports.io/football/teams/40.png'}, 'league': {'id': 39, 'name': 'Premier League', 'country': 'England', 'logo': 'https://media.api-sports.io/football/leagues/39.png', 'flag': 'https://media.api-sports.io/flags/gb.svg', 'season': 2022}, 'games': {'appearences': 12, 'lineups': 10, 'minutes': 860, 'number': None, 'position': 'Attacker', 'rating': '7.341666', 'captain': False}, 'substitutes': {'in': 2, 'out': 7, 'bench': 2}, 'shots': {'total': 23, 'on': 18}, 'goals': {'total': 6, 'conceded': 0, 'assists': 3, 'saves': None}, 'passes': {'total': 377, 'key': 17, 'accuracy': 24}, 'tackles': {'total': 13, 'blocks': 1, 'interceptions': 6}, 'duels': {'total': 94, 'won': 37}, 'dribbles': {'attempts': 13, 'success': 6, 'past': None}, 'fouls': {'drawn': 5, 'committed': 5}, 'cards': {'yellow': 0, 'yellowred': 0, 'red': 0}, 'penalty': {'won': None, 'commited': None, 'scored': 0, 'missed': 0, 'saved': None}}]}, {'player': {'id': 3247, 'name': 'W. Zaha', 'firstname': 'Dazet Wilfried', 'lastname': 'Armel Zaha', 'age': 30, 'birth': {'date': '1992-11-10', 'place': 'Abidjan', 'country': \"Côte d'Ivoire\"}, 'nationality': \"Côte d'Ivoire\", 'height': '180 cm', 'weight': '66 kg', 'injured': False, 'photo': 'https://media.api-sports.io/football/players/3247.png'}, 'statistics': [{'team': {'id': 52, 'name': 'Crystal Palace', 'logo': 'https://media.api-sports.io/football/teams/52.png'}, 'league': {'id': 39, 'name': 'Premier League', 'country': 'England', 'logo': 'https://media.api-sports.io/football/leagues/39.png', 'flag': 'https://media.api-sports.io/flags/gb.svg', 'season': 2022}, 'games': {'appearences': 12, 'lineups': 12, 'minutes': 1059, 'number': None, 'position': 'Attacker', 'rating': '7.025000', 'captain': False}, 'substitutes': {'in': 0, 'out': 2, 'bench': 0}, 'shots': {'total': 21, 'on': 15}, 'goals': {'total': 6, 'conceded': 0, 'assists': 2, 'saves': None}, 'passes': {'total': 301, 'key': 14, 'accuracy': 20}, 'tackles': {'total': 22, 'blocks': None, 'interceptions': 6}, 'duels': {'total': 191, 'won': 90}, 'dribbles': {'attempts': 57, 'success': 25, 'past': None}, 'fouls': {'drawn': 39, 'committed': 11}, 'cards': {'yellow': 3, 'yellowred': 0, 'red': 0}, 'penalty': {'won': None, 'commited': None, 'scored': 0, 'missed': 1, 'saved': None}}]}, {'player': {'id': 18784, 'name': 'J. Maddison', 'firstname': 'James Daniel', 'lastname': 'Maddison', 'age': 26, 'birth': {'date': '1996-11-23', 'place': 'Coventry', 'country': 'England'}, 'nationality': 'England', 'height': '175 cm', 'weight': '73 kg', 'injured': False, 'photo': 'https://media.api-sports.io/football/players/18784.png'}, 'statistics': [{'team': {'id': 46, 'name': 'Leicester', 'logo': 'https://media.api-sports.io/football/teams/46.png'}, 'league': {'id': 39, 'name': 'Premier League', 'country': 'England', 'logo': 'https://media.api-sports.io/football/leagues/39.png', 'flag': 'https://media.api-sports.io/flags/gb.svg', 'season': 2022}, 'games': {'appearences': 11, 'lineups': 11, 'minutes': 985, 'number': None, 'position': 'Midfielder', 'rating': '7.481818', 'captain': False}, 'substitutes': {'in': 0, 'out': 1, 'bench': 0}, 'shots': {'total': 20, 'on': 12}, 'goals': {'total': 6, 'conceded': 0, 'assists': 2, 'saves': None}, 'passes': {'total': 473, 'key': 27, 'accuracy': 35}, 'tackles': {'total': 25, 'blocks': None, 'interceptions': 7}, 'duels': {'total': 112, 'won': 58}, 'dribbles': {'attempts': 14, 'success': 4, 'past': None}, 'fouls': {'drawn': 27, 'committed': 15}, 'cards': {'yellow': 5, 'yellowred': 0, 'red': 0}, 'penalty': {'won': None, 'commited': None, 'scored': 0, 'missed': 0, 'saved': None}}]}, {'player': {'id': 935, 'name': 'Rodrigo', 'firstname': 'Rodrigo', 'lastname': 'Moreno Machado', 'age': 31, 'birth': {'date': '1991-03-06', 'place': 'Rio de Janeiro', 'country': 'Brazil'}, 'nationality': 'Spain', 'height': '182 cm', 'weight': '77 kg', 'injured': False, 'photo': 'https://media.api-sports.io/football/players/935.png'}, 'statistics': [{'team': {'id': 63, 'name': 'Leeds', 'logo': 'https://media.api-sports.io/football/teams/63.png'}, 'league': {'id': 39, 'name': 'Premier League', 'country': 'England', 'logo': 'https://media.api-sports.io/football/leagues/39.png', 'flag': 'https://media.api-sports.io/flags/gb.svg', 'season': 2022}, 'games': {'appearences': 11, 'lineups': 10, 'minutes': 724, 'number': None, 'position': 'Attacker', 'rating': '6.972727', 'captain': False}, 'substitutes': {'in': 1, 'out': 7, 'bench': 1}, 'shots': {'total': 21, 'on': 11}, 'goals': {'total': 6, 'conceded': 0, 'assists': 1, 'saves': None}, 'passes': {'total': 212, 'key': 10, 'accuracy': 13}, 'tackles': {'total': 8, 'blocks': 1, 'interceptions': 2}, 'duels': {'total': 85, 'won': 26}, 'dribbles': {'attempts': 10, 'success': 4, 'past': None}, 'fouls': {'drawn': 2, 'committed': 13}, 'cards': {'yellow': 1, 'yellowred': 0, 'red': 0}, 'penalty': {'won': None, 'commited': None, 'scored': 0, 'missed': 0, 'saved': None}}]}, {'player': {'id': 2939, 'name': 'C. Wilson', 'firstname': 'Callum Eddie Graham', 'lastname': 'Wilson', 'age': 30, 'birth': {'date': '1992-02-27', 'place': 'Coventry', 'country': 'England'}, 'nationality': 'England', 'height': '180 cm', 'weight': '66 kg', 'injured': False, 'photo': 'https://media.api-sports.io/football/players/2939.png'}, 'statistics': [{'team': {'id': 34, 'name': 'Newcastle', 'logo': 'https://media.api-sports.io/football/teams/34.png'}, 'league': {'id': 39, 'name': 'Premier League', 'country': 'England', 'logo': 'https://media.api-sports.io/football/leagues/39.png', 'flag': 'https://media.api-sports.io/flags/gb.svg', 'season': 2022}, 'games': {'appearences': 9, 'lineups': 9, 'minutes': 735, 'number': None, 'position': 'Attacker', 'rating': '7.111111', 'captain': False}, 'substitutes': {'in': 0, 'out': 9, 'bench': 0}, 'shots': {'total': 23, 'on': 11}, 'goals': {'total': 6, 'conceded': 0, 'assists': 2, 'saves': None}, 'passes': {'total': 93, 'key': 10, 'accuracy': 7}, 'tackles': {'total': 4, 'blocks': None, 'interceptions': 1}, 'duels': {'total': 59, 'won': 23}, 'dribbles': {'attempts': 3, 'success': 2, 'past': None}, 'fouls': {'drawn': 8, 'committed': 10}, 'cards': {'yellow': 1, 'yellowred': 0, 'red': 0}, 'penalty': {'won': None, 'commited': None, 'scored': 1, 'missed': 0, 'saved': None}}]}, {'player': {'id': 643, 'name': 'Gabriel Jesus', 'firstname': 'Gabriel Fernando', 'lastname': 'de Jesus', 'age': 25, 'birth': {'date': '1997-04-03', 'place': 'São Paulo', 'country': 'Brazil'}, 'nationality': 'Brazil', 'height': '175 cm', 'weight': '73 kg', 'injured': False, 'photo': 'https://media.api-sports.io/football/players/643.png'}, 'statistics': [{'team': {'id': 42, 'name': 'Arsenal', 'logo': 'https://media.api-sports.io/football/teams/42.png'}, 'league': {'id': 39, 'name': 'Premier League', 'country': 'England', 'logo': 'https://media.api-sports.io/football/leagues/39.png', 'flag': 'https://media.api-sports.io/flags/gb.svg', 'season': 2022}, 'games': {'appearences': 12, 'lineups': 12, 'minutes': 1046, 'number': None, 'position': 'Attacker', 'rating': '7.108333', 'captain': False}, 'substitutes': {'in': 0, 'out': 7, 'bench': 0}, 'shots': {'total': 32, 'on': 19}, 'goals': {'total': 5, 'conceded': 0, 'assists': 5, 'saves': None}, 'passes': {'total': 332, 'key': 20, 'accuracy': 22}, 'tackles': {'total': 16, 'blocks': 2, 'interceptions': 4}, 'duels': {'total': 217, 'won': 91}, 'dribbles': {'attempts': 49, 'success': 23, 'past': None}, 'fouls': {'drawn': 32, 'committed': 21}, 'cards': {'yellow': 4, 'yellowred': 0, 'red': 0}, 'penalty': {'won': None, 'commited': None, 'scored': 0, 'missed': 0, 'saved': None}}]}, {'player': {'id': 127769, 'name': 'Gabriel Martinelli', 'firstname': 'Gabriel Teodoro', 'lastname': 'Martinelli Silva', 'age': 21, 'birth': {'date': '2001-06-18', 'place': 'Guarulhos', 'country': 'Brazil'}, 'nationality': 'Brazil', 'height': '178 cm', 'weight': '75 kg', 'injured': False, 'photo': 'https://media.api-sports.io/football/players/127769.png'}, 'statistics': [{'team': {'id': 42, 'name': 'Arsenal', 'logo': 'https://media.api-sports.io/football/teams/42.png'}, 'league': {'id': 39, 'name': 'Premier League', 'country': 'England', 'logo': 'https://media.api-sports.io/football/leagues/39.png', 'flag': 'https://media.api-sports.io/flags/gb.svg', 'season': 2022}, 'games': {'appearences': 13, 'lineups': 13, 'minutes': 1097, 'number': None, 'position': 'Attacker', 'rating': '7.223076', 'captain': False}, 'substitutes': {'in': 0, 'out': 5, 'bench': 0}, 'shots': {'total': 23, 'on': 13}, 'goals': {'total': 5, 'conceded': 0, 'assists': 2, 'saves': None}, 'passes': {'total': 363, 'key': 23, 'accuracy': 23}, 'tackles': {'total': 11, 'blocks': None, 'interceptions': 6}, 'duels': {'total': 150, 'won': 60}, 'dribbles': {'attempts': 45, 'success': 26, 'past': None}, 'fouls': {'drawn': 19, 'committed': 21}, 'cards': {'yellow': 1, 'yellowred': 0, 'red': 0}, 'penalty': {'won': None, 'commited': None, 'scored': 0, 'missed': 0, 'saved': None}}]}, {'player': {'id': 306, 'name': 'Mohamed Salah', 'firstname': 'Mohamed', 'lastname': 'Salah Hamed Mahrous Ghaly', 'age': 30, 'birth': {'date': '1992-06-15', 'place': 'Muḥāfaẓat al Gharbiyya', 'country': 'Egypt'}, 'nationality': 'Egypt', 'height': '175 cm', 'weight': '71 kg', 'injured': False, 'photo': 'https://media.api-sports.io/football/players/306.png'}, 'statistics': [{'team': {'id': 40, 'name': 'Liverpool', 'logo': 'https://media.api-sports.io/football/teams/40.png'}, 'league': {'id': 39, 'name': 'Premier League', 'country': 'England', 'logo': 'https://media.api-sports.io/football/leagues/39.png', 'flag': 'https://media.api-sports.io/flags/gb.svg', 'season': 2022}, 'games': {'appearences': 12, 'lineups': 12, 'minutes': 1059, 'number': None, 'position': 'Attacker', 'rating': '6.783333', 'captain': False}, 'substitutes': {'in': 0, 'out': 2, 'bench': 0}, 'shots': {'total': 34, 'on': 15}, 'goals': {'total': 4, 'conceded': 0, 'assists': 3, 'saves': None}, 'passes': {'total': 292, 'key': 29, 'accuracy': 18}, 'tackles': {'total': 3, 'blocks': None, 'interceptions': 2}, 'duels': {'total': 104, 'won': 25}, 'dribbles': {'attempts': 42, 'success': 14, 'past': None}, 'fouls': {'drawn': 6, 'committed': 8}, 'cards': {'yellow': 0, 'yellowred': 0, 'red': 0}, 'penalty': {'won': None, 'commited': None, 'scored': 0, 'missed': 0, 'saved': None}}]}, {'player': {'id': 909, 'name': 'M. Rashford', 'firstname': 'Marcus', 'lastname': 'Rashford', 'age': 25, 'birth': {'date': '1997-10-31', 'place': 'Manchester', 'country': 'England'}, 'nationality': 'England', 'height': '180 cm', 'weight': '70 kg', 'injured': False, 'photo': 'https://media.api-sports.io/football/players/909.png'}, 'statistics': [{'team': {'id': 33, 'name': 'Manchester United', 'logo': 'https://media.api-sports.io/football/teams/33.png'}, 'league': {'id': 39, 'name': 'Premier League', 'country': 'England', 'logo': 'https://media.api-sports.io/football/leagues/39.png', 'flag': 'https://media.api-sports.io/flags/gb.svg', 'season': 2022}, 'games': {'appearences': 12, 'lineups': 11, 'minutes': 950, 'number': None, 'position': 'Attacker', 'rating': '6.908333', 'captain': False}, 'substitutes': {'in': 1, 'out': 5, 'bench': 1}, 'shots': {'total': 20, 'on': 11}, 'goals': {'total': 4, 'conceded': 0, 'assists': 2, 'saves': None}, 'passes': {'total': 251, 'key': 10, 'accuracy': 15}, 'tackles': {'total': 7, 'blocks': 1, 'interceptions': 2}, 'duels': {'total': 97, 'won': 41}, 'dribbles': {'attempts': 27, 'success': 15, 'past': None}, 'fouls': {'drawn': 7, 'committed': 5}, 'cards': {'yellow': 1, 'yellowred': 0, 'red': 0}, 'penalty': {'won': None, 'commited': None, 'scored': 0, 'missed': 0, 'saved': None}}]}, {'player': {'id': 37127, 'name': 'M. Ødegaard', 'firstname': 'Martin', 'lastname': 'Ødegaard', 'age': 24, 'birth': {'date': '1998-12-17', 'place': 'Drammen', 'country': 'Norway'}, 'nationality': 'Norway', 'height': '178 cm', 'weight': '68 kg', 'injured': False, 'photo': 'https://media.api-sports.io/football/players/37127.png'}, 'statistics': [{'team': {'id': 42, 'name': 'Arsenal', 'logo': 'https://media.api-sports.io/football/teams/42.png'}, 'league': {'id': 39, 'name': 'Premier League', 'country': 'England', 'logo': 'https://media.api-sports.io/football/leagues/39.png', 'flag': 'https://media.api-sports.io/flags/gb.svg', 'season': 2022}, 'games': {'appearences': 12, 'lineups': 12, 'minutes': 993, 'number': None, 'position': 'Midfielder', 'rating': '7.325000', 'captain': False}, 'substitutes': {'in': 0, 'out': 10, 'bench': 0}, 'shots': {'total': 16, 'on': 11}, 'goals': {'total': 4, 'conceded': 0, 'assists': 2, 'saves': None}, 'passes': {'total': 501, 'key': 25, 'accuracy': 33}, 'tackles': {'total': 10, 'blocks': 1, 'interceptions': 2}, 'duels': {'total': 85, 'won': 37}, 'dribbles': {'attempts': 20, 'success': 14, 'past': None}, 'fouls': {'drawn': 8, 'committed': 10}, 'cards': {'yellow': 2, 'yellowred': 0, 'red': 0}, 'penalty': {'won': None, 'commited': None, 'scored': 0, 'missed': 0, 'saved': None}}]}, {'player': {'id': 18970, 'name': 'P. Groß', 'firstname': 'Pascal', 'lastname': 'Groß', 'age': 31, 'birth': {'date': '1991-06-15', 'place': 'Mannheim', 'country': 'Germany'}, 'nationality': 'Germany', 'height': '181 cm', 'weight': '78 kg', 'injured': False, 'photo': 'https://media.api-sports.io/football/players/18970.png'}, 'statistics': [{'team': {'id': 51, 'name': 'Brighton', 'logo': 'https://media.api-sports.io/football/teams/51.png'}, 'league': {'id': 39, 'name': 'Premier League', 'country': 'England', 'logo': 'https://media.api-sports.io/football/leagues/39.png', 'flag': 'https://media.api-sports.io/flags/gb.svg', 'season': 2022}, 'games': {'appearences': 12, 'lineups': 12, 'minutes': 1017, 'number': None, 'position': 'Midfielder', 'rating': '7.350000', 'captain': False}, 'substitutes': {'in': 0, 'out': 5, 'bench': 0}, 'shots': {'total': 12, 'on': 8}, 'goals': {'total': 4, 'conceded': 0, 'assists': 2, 'saves': None}, 'passes': {'total': 424, 'key': 26, 'accuracy': 26}, 'tackles': {'total': 18, 'blocks': 3, 'interceptions': 4}, 'duels': {'total': 72, 'won': 27}, 'dribbles': {'attempts': 7, 'success': 3, 'past': None}, 'fouls': {'drawn': 5, 'committed': 7}, 'cards': {'yellow': 1, 'yellowred': 0, 'red': 0}, 'penalty': {'won': None, 'commited': None, 'scored': 0, 'missed': 0, 'saved': None}}]}, {'player': {'id': 2734, 'name': 'P. Billing', 'firstname': 'Philip', 'lastname': 'Anyanwu Billing', 'age': 26, 'birth': {'date': '1996-06-11', 'place': 'Lagos', 'country': 'Denmark'}, 'nationality': 'Denmark', 'height': '193 cm', 'weight': '83 kg', 'injured': False, 'photo': 'https://media.api-sports.io/football/players/2734.png'}, 'statistics': [{'team': {'id': 35, 'name': 'Bournemouth', 'logo': 'https://media.api-sports.io/football/teams/35.png'}, 'league': {'id': 39, 'name': 'Premier League', 'country': 'England', 'logo': 'https://media.api-sports.io/football/leagues/39.png', 'flag': 'https://media.api-sports.io/flags/gb.svg', 'season': 2022}, 'games': {'appearences': 14, 'lineups': 12, 'minutes': 1054, 'number': None, 'position': 'Midfielder', 'rating': '6.907142', 'captain': False}, 'substitutes': {'in': 2, 'out': 9, 'bench': 2}, 'shots': {'total': 8, 'on': 5}, 'goals': {'total': 4, 'conceded': 0, 'assists': 1, 'saves': None}, 'passes': {'total': 342, 'key': 9, 'accuracy': 19}, 'tackles': {'total': 30, 'blocks': 4, 'interceptions': 10}, 'duels': {'total': 131, 'won': 72}, 'dribbles': {'attempts': 15, 'success': 7, 'past': None}, 'fouls': {'drawn': 12, 'committed': 10}, 'cards': {'yellow': 1, 'yellowred': 0, 'red': 0}, 'penalty': {'won': None, 'commited': None, 'scored': 0, 'missed': 0, 'saved': None}}]}, {'player': {'id': 18778, 'name': 'H. Barnes', 'firstname': 'Harvey Lewis', 'lastname': 'Barnes', 'age': 25, 'birth': {'date': '1997-12-09', 'place': 'Burnley', 'country': 'England'}, 'nationality': 'England', 'height': '174 cm', 'weight': '66 kg', 'injured': False, 'photo': 'https://media.api-sports.io/football/players/18778.png'}, 'statistics': [{'team': {'id': 46, 'name': 'Leicester', 'logo': 'https://media.api-sports.io/football/teams/46.png'}, 'league': {'id': 39, 'name': 'Premier League', 'country': 'England', 'logo': 'https://media.api-sports.io/football/leagues/39.png', 'flag': 'https://media.api-sports.io/flags/gb.svg', 'season': 2022}, 'games': {'appearences': 11, 'lineups': 11, 'minutes': 911, 'number': None, 'position': 'Midfielder', 'rating': '6.636363', 'captain': False}, 'substitutes': {'in': 0, 'out': 5, 'bench': 0}, 'shots': {'total': 19, 'on': 11}, 'goals': {'total': 4, 'conceded': 0, 'assists': None, 'saves': None}, 'passes': {'total': 245, 'key': 4, 'accuracy': 17}, 'tackles': {'total': 10, 'blocks': None, 'interceptions': 2}, 'duels': {'total': 108, 'won': 38}, 'dribbles': {'attempts': 25, 'success': 8, 'past': None}, 'fouls': {'drawn': 13, 'committed': 9}, 'cards': {'yellow': 0, 'yellowred': 0, 'red': 0}, 'penalty': {'won': None, 'commited': None, 'scored': 0, 'missed': 0, 'saved': None}}]}]}\n"
     ]
    }
   ],
   "source": [
    "import requests\n",
    "\n",
    "url = \"https://api-football-beta.p.rapidapi.com/players/topscorers\"\n",
    "\n",
    "querystring = {\"season\":\"2022\",\"league\":\"39\"}\n",
    "\n",
    "headers = {\n",
    "\t\"X-RapidAPI-Key\": \"62a02ca5ccmsha68a5acf6c698d9p1ffc12jsnbe2b9a765139\",\n",
    "\t\"X-RapidAPI-Host\": \"api-football-beta.p.rapidapi.com\"\n",
    "}\n",
    "\n",
    "response = requests.request(\"GET\", url, headers=headers, params=querystring)\n",
    "\n",
    "print (type(response.json()))\n",
    "print(response.json())\n",
    "df = response.json()"
   ]
  },
  {
   "cell_type": "code",
   "execution_count": 125,
   "id": "17f01de6",
   "metadata": {},
   "outputs": [
    {
     "data": {
      "text/plain": [
       "dict_keys(['player', 'statistics'])"
      ]
     },
     "execution_count": 125,
     "metadata": {},
     "output_type": "execute_result"
    }
   ],
   "source": [
    "df['response'][2].keys()"
   ]
  },
  {
   "cell_type": "code",
   "execution_count": 136,
   "id": "8056574e",
   "metadata": {},
   "outputs": [],
   "source": []
  },
  {
   "cell_type": "code",
   "execution_count": null,
   "id": "d5cb9d3e",
   "metadata": {},
   "outputs": [],
   "source": [
    "playercode = {'E. Haaland':0, 'H. Kane':1, 'A. Mitrović':2, 'I. Toney':3, 'L. Trossard':4, 'M. Almirón':5, 'P. Foden':6, 'Roberto Firmino':7}"
   ]
  },
  {
   "cell_type": "code",
   "execution_count": 135,
   "id": "8fecff81",
   "metadata": {},
   "outputs": [
    {
     "data": {
      "text/plain": [
       "11"
      ]
     },
     "execution_count": 135,
     "metadata": {},
     "output_type": "execute_result"
    }
   ],
   "source": [
    "df['response'][2]['statistics'][0]['passes']['accuracy']"
   ]
  },
  {
   "cell_type": "code",
   "execution_count": 6,
   "id": "8b39e7c7",
   "metadata": {},
   "outputs": [
    {
     "data": {
      "text/plain": [
       "'E. Haaland'"
      ]
     },
     "execution_count": 6,
     "metadata": {},
     "output_type": "execute_result"
    }
   ],
   "source": [
    "gg['name'][0]"
   ]
  },
  {
   "cell_type": "code",
   "execution_count": 7,
   "id": "b2e340a2",
   "metadata": {
    "scrolled": true
   },
   "outputs": [
    {
     "data": {
      "text/plain": [
       "[{'team': {'id': 36,\n",
       "   'name': 'Fulham',\n",
       "   'logo': 'https://media.api-sports.io/football/teams/36.png'},\n",
       "  'league': {'id': 39,\n",
       "   'name': 'Premier League',\n",
       "   'country': 'England',\n",
       "   'logo': 'https://media.api-sports.io/football/leagues/39.png',\n",
       "   'flag': 'https://media.api-sports.io/flags/gb.svg',\n",
       "   'season': 2022},\n",
       "  'games': {'appearences': 12,\n",
       "   'lineups': 12,\n",
       "   'minutes': 1021,\n",
       "   'number': None,\n",
       "   'position': 'Attacker',\n",
       "   'rating': '7.333333',\n",
       "   'captain': False},\n",
       "  'substitutes': {'in': 0, 'out': 5, 'bench': 0},\n",
       "  'shots': {'total': 45, 'on': 22},\n",
       "  'goals': {'total': 9, 'conceded': 0, 'assists': None, 'saves': None},\n",
       "  'passes': {'total': 236, 'key': 11, 'accuracy': 11},\n",
       "  'tackles': {'total': 9, 'blocks': 3, 'interceptions': 1},\n",
       "  'duels': {'total': 206, 'won': 99},\n",
       "  'dribbles': {'attempts': 24, 'success': 13, 'past': None},\n",
       "  'fouls': {'drawn': 15, 'committed': 13},\n",
       "  'cards': {'yellow': 4, 'yellowred': 0, 'red': 0},\n",
       "  'penalty': {'won': None,\n",
       "   'commited': None,\n",
       "   'scored': 3,\n",
       "   'missed': 1,\n",
       "   'saved': None}}]"
      ]
     },
     "execution_count": 7,
     "metadata": {},
     "output_type": "execute_result"
    }
   ],
   "source": [
    "c1 = df['response'][2]['statistics']\n",
    "c1"
   ]
  },
  {
   "cell_type": "code",
   "execution_count": 146,
   "id": "bd253661",
   "metadata": {},
   "outputs": [],
   "source": [
    "playerid = 0\n",
    "goals = df['response'][playerid]['statistics'][0]['goals']['total']\n",
    "shot = df['response'][playerid]['statistics'][0]['shots']['total']\n",
    "passing = df['response'][playerid]['statistics'][0]['passes']['total']\n",
    "passing_accuracy = df['response'][2]['statistics'][0]['passes']['accuracy']"
   ]
  },
  {
   "cell_type": "code",
   "execution_count": 145,
   "id": "77e4296b",
   "metadata": {},
   "outputs": [],
   "source": [
    "def askplayer(name):\n",
    "    askq = input(\n",
    "        \"I know a lot about football, if you want I can tell you about some of the top scorers in the premiere league. So what do you say, Yes or No? \")\n",
    "    if askq == 'yes' or askq == 'Yes':\n",
    "        print(\n",
    "            \"Here are the names of some of the top scorers I know, Choose any of those names and I'll tell you all about them\")\n",
    "        print(\"E. Haaland, H. Kane, A. Mitrović, I. Toney, L. Trossard, M. Almirón, P. Foden, Roberto Firmino\")\n",
    "        # playerchoose = input(\"So what's your choice \")\n",
    "        while True:\n",
    "            playerchoose = input(\"So what's your choice \")\n",
    "            if playerchoose in playercode.keys():\n",
    "                playerid = (playercode[playerchoose])\n",
    "                # print(playerid)\n",
    "                print(\n",
    "                    \"Ah yes... \" + playerchoose + \" I know all about him. Did you know in this season he has scored a total of \"\n",
    "                    + str(goals) + \" goals and he's attempted \" + str(shot) + \" shots\" + \" .  Not to mention he has made \"\n",
    "                + str(passing) + \" passes with \" + str(passing_accuracy) + \"% accuracy\")\n",
    "                break\n",
    "\n",
    "\n",
    "\n",
    "\n",
    "            else:\n",
    "                print(\"That's not one of the names I gave you... Try again.\")"
   ]
  },
  {
   "cell_type": "code",
   "execution_count": 147,
   "id": "76e9481e",
   "metadata": {},
   "outputs": [
    {
     "name": "stdout",
     "output_type": "stream",
     "text": [
      "I know a lot about football, if you want I can tell you about some of the top scorers in the premiere league. So what do you say, Yes or No? yes\n",
      "Here are the names of some of the top scorers I know, Choose any of those names and I'll tell you all about them\n",
      "E. Haaland, H. Kane, A. Mitrović, I. Toney, L. Trossard, M. Almirón, P. Foden, Roberto Firmino\n",
      "So what's your choice H. Kane\n",
      "Ah yes... H. Kane I know all about him. Did you know in this season he has scored a total of 18 goals and he's attempted a grande total of 43 shots .  Not to mention he has made 168 passes with 11% accuracy\n"
     ]
    }
   ],
   "source": [
    "askplayer(\"name\")"
   ]
  },
  {
   "cell_type": "code",
   "execution_count": null,
   "id": "7cbd3eaf",
   "metadata": {},
   "outputs": [],
   "source": []
  }
 ],
 "metadata": {
  "kernelspec": {
   "display_name": "Python 3 (ipykernel)",
   "language": "python",
   "name": "python3"
  },
  "language_info": {
   "codemirror_mode": {
    "name": "ipython",
    "version": 3
   },
   "file_extension": ".py",
   "mimetype": "text/x-python",
   "name": "python",
   "nbconvert_exporter": "python",
   "pygments_lexer": "ipython3",
   "version": "3.9.13"
  }
 },
 "nbformat": 4,
 "nbformat_minor": 5
}
