{
 "cells": [
  {
   "cell_type": "code",
   "execution_count": 1,
   "id": "8bbedf6a",
   "metadata": {
    "scrolled": true
   },
   "outputs": [
    {
     "name": "stderr",
     "output_type": "stream",
     "text": [
      "Warming up PyWSD (takes ~10 secs)... took 12.324640989303589 secs.\n"
     ]
    }
   ],
   "source": [
    "import pandas as pd\n",
    "import nltk\n",
    "import re\n",
    "from nltk.tokenize import word_tokenize\n",
    "from nltk.corpus import stopwords\n",
    "stop_words = set(stopwords.words(\"english\"))\n",
    "from random import randrange\n",
    "import time\n",
    "#from nltk.stem.porter import PorterStemmer\n",
    "import spacy\n",
    "from nltk.stem import WordNetLemmatizer\n",
    "#nltk.download('all')\n",
    "nlp = spacy.load('en_core_web_lg',  disable=[\"parser\", \"ner\"])\n",
    "import random\n",
    "import numpy as np\n",
    "from sklearn.feature_extraction.text import TfidfVectorizer\n",
    "v = TfidfVectorizer()\n",
    "from sklearn.metrics.pairwise import cosine_similarity\n",
    "from nltk import pos_tag\n",
    "wnl = WordNetLemmatizer()\n",
    "from pywsd.utils import lemmatize_sentence"
   ]
  },
  {
   "cell_type": "code",
   "execution_count": 2,
   "id": "bf83bcd5",
   "metadata": {},
   "outputs": [],
   "source": [
    "import requests\n",
    "\n",
    "url = \"https://api-football-beta.p.rapidapi.com/players/topscorers\"\n",
    "\n",
    "querystring = {\"season\":\"2022\",\"league\":\"39\"}\n",
    "\n",
    "headers = {\n",
    "    \"X-RapidAPI-Key\": \"62a02ca5ccmsha68a5acf6c698d9p1ffc12jsnbe2b9a765139\",\n",
    "    \"X-RapidAPI-Host\": \"api-football-beta.p.rapidapi.com\"\n",
    "}\n",
    "\n",
    "response = requests.request(\"GET\", url, headers=headers, params=querystring)\n",
    "\n",
    "#print (type(response.json()))\n",
    "#print(response.json())\n",
    "df = response.json()"
   ]
  },
  {
   "cell_type": "code",
   "execution_count": 19,
   "id": "da3ad805",
   "metadata": {},
   "outputs": [],
   "source": [
    "playerid = 0\n",
    "goals = df['response'][playerid]['statistics'][0]['goals']['total']\n",
    "shot = df['response'][playerid]['statistics'][0]['shots']['total']\n",
    "passing = df['response'][playerid]['statistics'][0]['passes']['total']\n",
    "playercode = {'Earling Haaland':0, ' Harry Kane':1, 'Aleksandar Mitrovic':2, 'Ivan Toney':3, 'Leandro Trossard':4, ' M. Miguel Almiron':5, 'Phil Foden':6, 'Roberto Firmino':7}"
   ]
  },
  {
   "cell_type": "code",
   "execution_count": 4,
   "id": "0b66aa20",
   "metadata": {},
   "outputs": [],
   "source": [
    "def askplayer(name):\n",
    "    askq = input(\"If you want I can tell you about some of the top scorers in the premiere league. So what do you say, Yes or No? \")\n",
    "    if askq =='yes' or askq == 'Yes':\n",
    "        print(\"Here are the names of some of the top scorers I know, Choose any of those names and I'll tell you all about them\")\n",
    "        print(\"Earling Haaland, Harry Kane, Aleksandar Mitrovic, Ivan Toney, Leandro Trossard, M. Miguel Almiron, Phil Foden, Roberto Firmino\")  \n",
    "       #playerchoose = input(\"So what's your choice \")\n",
    "        while True:\n",
    "            playerchoose = input(\"So what's your choice \")\n",
    "            if playerchoose in playercode.keys():\n",
    "                playerid = (playercode[playerchoose])\n",
    "                #print(playerid)\n",
    "                print(\"hmm...\")\n",
    "                time.sleep(1)\n",
    "                print(\"Ah yes... \" + playerchoose + \" I know all about him. Did you know in this season he has scored a total of \" \n",
    "                      + str(goals) + \" goals and he's attempted a grande total of \" + str(shot) +\" shots\")\n",
    "                #return False\n",
    "                break\n",
    "            else:\n",
    "                print(\"That's not one of the names I gave you... Try again.\")"
   ]
  },
  {
   "cell_type": "code",
   "execution_count": 5,
   "id": "e5093c29",
   "metadata": {},
   "outputs": [],
   "source": [
    " def word_tokenization(text):\n",
    "    text = text.lower()\n",
    "    text = re.sub(r'[^\\w\\s]','',text)\n",
    "    text_tokenized = word_tokenize(text)\n",
    "    \n",
    "    for word in text_tokenized:\n",
    "        if word in stopwords.words('english'):\n",
    "            text_tokenized.remove(word)\n",
    "        \n",
    "    return(text_tokenized)\n"
   ]
  },
  {
   "cell_type": "code",
   "execution_count": 6,
   "id": "d0781d70",
   "metadata": {},
   "outputs": [],
   "source": [
    "def taggandlem(text):\n",
    "    global lemmatized_list \n",
    "    global lmt_string\n",
    "    entity_list = []\n",
    "    for word in text:\n",
    "        if 'NN' in word[1] or 'JJ' in word[1]  or 'VB' in word[1]:\n",
    "            entity_list.append(word[0])\n",
    "    \n",
    "    lemmatized_list = []\n",
    "    for lit in entity_list:\n",
    "        lmtz = wnl.lemmatize(lit)\n",
    "        lemmatized_list.append(lmtz)\n",
    "        lmt_string = ' '.join(lemmatized_list)"
   ]
  },
  {
   "cell_type": "code",
   "execution_count": 22,
   "id": "d76a70b2",
   "metadata": {},
   "outputs": [],
   "source": [
    "def lem_response_joined(text):\n",
    "    global lemlist\n",
    "    number = 0\n",
    "    lemlist = []\n",
    "    n=0\n",
    "    for word in text:\n",
    "        number = number+1\n",
    "     \n",
    "    while n<number:\n",
    "        gg =' '.join(text[n])\n",
    "        lemlist.append(gg)\n",
    "        n=n+1\n",
    "    \n",
    "    #print(lemlist)\n",
    "    "
   ]
  },
  {
   "cell_type": "code",
   "execution_count": 8,
   "id": "28d61793",
   "metadata": {},
   "outputs": [],
   "source": [
    "question = [\" \",\n",
    "            \"hello, hey, hi, how are you\",\n",
    "            \"what is your favourite team\",\n",
    "            \"what is your least favourite or most hated team\",\n",
    "            \"how long have you been watching football\"\n",
    "                    \n",
    "                   ]"
   ]
  },
  {
   "cell_type": "code",
   "execution_count": 9,
   "id": "a2b8f4a7",
   "metadata": {},
   "outputs": [],
   "source": [
    "response = [\"Ask another question\",\n",
    "            'Hey, my name is Garry I will be answering your football questions, feel free to ask anything',\n",
    "                  'My favourite team is Manchester United',\n",
    "                  'I really hate Manchester City',\n",
    "                 \"I've been watching football since I was two, for as long as I remember I've loved football\",    \n",
    "                 ]"
   ]
  },
  {
   "cell_type": "code",
   "execution_count": 10,
   "id": "1d1730e3",
   "metadata": {},
   "outputs": [],
   "source": [
    "question_list = []\n",
    "for word in question:\n",
    "    question_list.append(lemmatize_sentence(word,))\n",
    "    \n",
    "lem_response_joined(question_list)\n",
    "question_lem_list = lemlist"
   ]
  },
  {
   "cell_type": "code",
   "execution_count": 11,
   "id": "5baefafc",
   "metadata": {},
   "outputs": [],
   "source": [
    "chat_frame = pd.DataFrame()\n",
    "chat_frame['question'] = question_lem_list\n",
    "chat_frame['response'] = response"
   ]
  },
  {
   "cell_type": "code",
   "execution_count": 12,
   "id": "02074138",
   "metadata": {},
   "outputs": [],
   "source": [
    "#chat_frame"
   ]
  },
  {
   "cell_type": "code",
   "execution_count": 13,
   "id": "b31e9983",
   "metadata": {},
   "outputs": [],
   "source": [
    "def response_selection(ui):\n",
    "    sentence_input = [(ui)]\n",
    "    similarity_index_list = cosine_similarity(v.fit_transform(chat_frame[\"question\"]), v.transform(sentence_input)).flatten()\n",
    "    output = chat_frame.loc[similarity_index_list.argmax(), \"response\"]\n",
    "    print(output)"
   ]
  },
  {
   "cell_type": "code",
   "execution_count": 14,
   "id": "98c49d6c",
   "metadata": {},
   "outputs": [],
   "source": [
    "def speech(text):\n",
    "    tag = True\n",
    "    #exit_command = ['bye','exit,','goodbye']\n",
    "    while tag == True:\n",
    "        user_input = input()\n",
    "        user_input = user_input.lower()\n",
    "        if user_input == \"bye\" or  user_input == \"exit\" or  user_input == \"goodbye\":\n",
    "            print(\"goodbye\")\n",
    "            tag = False\n",
    "        \n",
    "        elif \"top scorer\" in user_input:\n",
    "            askplayer(\"name\")\n",
    "            \n",
    "        else:\n",
    "            tokenized_respone = word_tokenization(user_input)\n",
    "            tagged_response = pos_tag(tokenized_respone)\n",
    "            taggandlem(tagged_response)\n",
    "            user_input = lmt_string\n",
    "            #print(user_input)\n",
    "            response_selection(user_input)"
   ]
  },
  {
   "cell_type": "code",
   "execution_count": 16,
   "id": "89268dbb",
   "metadata": {
    "scrolled": true
   },
   "outputs": [
    {
     "name": "stdout",
     "output_type": "stream",
     "text": [
      "hey\n",
      "Hey, my name is Garry I will be answering your football questions, feel free to ask anything\n",
      "top scorer\n",
      "If you want I can tell you about some of the top scorers in the premiere league. So what do you say, Yes or No? yes\n",
      "Here are the names of some of the top scorers I know, Choose any of those names and I'll tell you all about them\n",
      "Earling Haaland, Harry Kane, Aleksandar Mitrovic, Ivan Toney, Leandro Trossard, M. Miguel Almiron, Phil Foden, Roberto Firmino\n",
      "So what's your choice Harry Kane\n",
      "That's not one of the names I gave you... Try again.\n",
      "So what's your choice Harry Kane\n",
      "That's not one of the names I gave you... Try again.\n",
      "So what's your choice Aleksandar Mitrovic\n",
      "hmm...\n",
      "Ah yes... Aleksandar Mitrovic I know all about him. Did you know in this season he has scored a total of 18 goals and he's attempted a grande total of 43 shots\n",
      "yes\n",
      "Ask another question\n",
      "\n",
      "Ask another question\n",
      "bye\n",
      "goodbye\n"
     ]
    }
   ],
   "source": [
    "speech(\"hello\")"
   ]
  },
  {
   "cell_type": "code",
   "execution_count": null,
   "id": "f6dc9a38",
   "metadata": {},
   "outputs": [],
   "source": []
  }
 ],
 "metadata": {
  "kernelspec": {
   "display_name": "Python 3 (ipykernel)",
   "language": "python",
   "name": "python3"
  },
  "language_info": {
   "codemirror_mode": {
    "name": "ipython",
    "version": 3
   },
   "file_extension": ".py",
   "mimetype": "text/x-python",
   "name": "python",
   "nbconvert_exporter": "python",
   "pygments_lexer": "ipython3",
   "version": "3.9.13"
  }
 },
 "nbformat": 4,
 "nbformat_minor": 5
}
