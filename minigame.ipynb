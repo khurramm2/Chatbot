{
 "cells": [
  {
   "cell_type": "code",
   "execution_count": null,
   "id": "1d230bc1",
   "metadata": {},
   "outputs": [],
   "source": [
    "#store data of Manchester United past wins in another file or csv\n",
    "#let the bot and the user make bets on who's going to win- the chatbot picks opposite of the user\n",
    "#make a timer e.g. Man United has scored 1 goal...... 2 goals..... Chelsea has scored 1 goal\n",
    "#you could include commentary \"Ronaldo goes for the goal... he takes a shot\"\n",
    "#if player wins he gains the money he bets, if he loses then the money he bets is lost."
   ]
  },
  {
   "cell_type": "code",
   "execution_count": null,
   "id": "6821bc4a",
   "metadata": {},
   "outputs": [],
   "source": []
  },
  {
   "cell_type": "code",
   "execution_count": null,
   "id": "f1c69747",
   "metadata": {},
   "outputs": [],
   "source": [
    "07 Aug 2022\tManchester United v Brighton and Hove Albion\tL\t1-2\tPremier League\n",
    "13 Aug 2022\tBrentford v Manchester United\tL\t4-0\tPremier League\n",
    "22 Aug 2022\tManchester United v Liverpool\tW\t2-1\tPremier League\n",
    "27 Aug 2022\tSouthampton v Manchester United\tW\t0-1\tPremier League\n",
    "01 Sep 2022\tLeicester City v Manchester United\tW\t0-1\tPremier League\n",
    "04 Sep 2022\tManchester United v Arsenal\tW\t3-1\tPremier League\n",
    "08 Sep 2022\tManchester United v Real Sociedad\tL\t0-1\tUEFA Europa League\n",
    "15 Sep 2022\tFC Sheriff Tiraspol v Manchester United\tW\t0-2\tUEFA Europa League\n",
    "02 Oct 2022\tManchester City v Manchester United\tL\t6-3\tPremier League\n",
    "06 Oct 2022\tOmonia Nicosia v Manchester United\tW\t2-3\tUEFA Europa League\n",
    "09 Oct 2022\tEverton v Manchester United\tW\t1-2\tPremier League\n",
    "13 Oct 2022\tManchester United v Omonia Nicosia\tW\t1-0\tUEFA Europa League\n",
    "16 Oct 2022\tManchester United v Newcastle United\tD\t0-0\tPremier League\n",
    "19 Oct 2022\tManchester United v Tottenham Hotspur\tW\t2-0\tPremier League\n",
    "22 Oct 2022\tChelsea v Manchester United\tD\t1-1\tPremier League\n",
    "27 Oct 2022\tManchester United v FC Sheriff Tiraspol\tW\t3-0\tUEFA Europa League\n",
    "30 Oct 2022\tManchester United v West Ham United\tW\t1-0\tPremier League\n",
    "03 Nov 2022\tReal Sociedad v Manchester United\tW\t0-1\tUEFA Europa League\n",
    "06 Nov 2022\tAston Villa v Manchester United\tL\t3-1\tPremier League\n",
    "10 Nov 2022\tManchester United v Aston Villa\tW\t4-2\tLeague Cup\n",
    "13 Nov 2022\tFulham v Manchester United\tW\t1-2\tPremier League"
   ]
  },
  {
   "cell_type": "code",
   "execution_count": null,
   "id": "a011d860",
   "metadata": {},
   "outputs": [],
   "source": [
    "07 Aug 2022\tManchester United v Brighton and Hove Albion\tL\t1-2\tPremier League\n",
    "13 Aug 2022\tBrentford v Manchester United\tL\t4-0\tPremier League\n",
    "22 Aug 2022\tManchester United v Liverpool\tW\t2-1\tPremier League\n",
    "27 Aug 2022\tSouthampton v Manchester United\tW\t0-1\tPremier League\n",
    "Leicester City v Manchester United\tW\t0-1\tPremier League\n",
    "Manchester United v Arsenal\tW\t3-1\tPremier League\n",
    "anchester United v Real Sociedad\tL\t0-1\tUEFA Europa League"
   ]
  },
  {
   "cell_type": "code",
   "execution_count": 4,
   "id": "e88cee35",
   "metadata": {},
   "outputs": [],
   "source": [
    "match1 = [1,2]\n",
    "match2 = [4,0]\n",
    "match3 = [2,1]"
   ]
  },
  {
   "cell_type": "code",
   "execution_count": 6,
   "id": "b466b429",
   "metadata": {},
   "outputs": [
    {
     "ename": "SyntaxError",
     "evalue": "Missing parentheses in call to 'print'. Did you mean print(\"rotating\")? (1433055463.py, line 17)",
     "output_type": "error",
     "traceback": [
      "\u001b[1;36m  File \u001b[1;32m\"C:\\Users\\Dell\\AppData\\Local\\Temp\\ipykernel_16584\\1433055463.py\"\u001b[1;36m, line \u001b[1;32m17\u001b[0m\n\u001b[1;33m    print \"rotating\"\u001b[0m\n\u001b[1;37m          ^\u001b[0m\n\u001b[1;31mSyntaxError\u001b[0m\u001b[1;31m:\u001b[0m Missing parentheses in call to 'print'. Did you mean print(\"rotating\")?\n"
     ]
    }
   ],
   "source": [
    "    import pygame\n",
    "    import time\n",
    "    from pygame.locals import *\n",
    "    pygame.init()\n",
    "    display_surf = pygame.display.set_mode((1200, 1200))\n",
    "    image_surf = pygame.image.load(\"/home/tempuser/Pictures/desktop.png\").convert()\n",
    "    imagerect = image_surf.get_rect() \n",
    "    display_surf.blit(image_surf,(640, 480))\n",
    "    pygame.display.flip()\n",
    "    start = time.time()\n",
    "    new = time.time()\n",
    "    while True:\n",
    "        end = time.time()\n",
    "        if end - start > 30:\n",
    "            break\n",
    "        elif end - new  > 10:\n",
    "            print \"rotating\"\n",
    "            new = time.time()\n",
    "            pygame.transform.rotate(image_surf,90)\n",
    "            pygame.display.flip()"
   ]
  },
  {
   "cell_type": "code",
   "execution_count": null,
   "id": "40512fa8",
   "metadata": {},
   "outputs": [],
   "source": []
  }
 ],
 "metadata": {
  "kernelspec": {
   "display_name": "Python 3 (ipykernel)",
   "language": "python",
   "name": "python3"
  },
  "language_info": {
   "codemirror_mode": {
    "name": "ipython",
    "version": 3
   },
   "file_extension": ".py",
   "mimetype": "text/x-python",
   "name": "python",
   "nbconvert_exporter": "python",
   "pygments_lexer": "ipython3",
   "version": "3.9.13"
  }
 },
 "nbformat": 4,
 "nbformat_minor": 5
}
