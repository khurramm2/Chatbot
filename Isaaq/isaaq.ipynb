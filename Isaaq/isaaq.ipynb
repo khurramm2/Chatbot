{
 "cells": [
  {
   "cell_type": "code",
   "execution_count": 19,
   "id": "ed122314",
   "metadata": {
    "scrolled": true
   },
   "outputs": [],
   "source": [
    "def rules(e):\n",
    "    rules = Rule1 = \"No outfield player can use their hands except for goalkeepers and for throw-ins! \"\n",
    "    rules = Rule2 = \"The opposition must have at least two players ahead of them in order to receive a pass on the oppositions side! \"\n",
    "    rules = Rule3 = \"If the ball goes outside of the edge white lines then it is either a goal kick, corner kick or throw-in! \"\n",
    "    rules = Rule4 = \"If the opposition makes a aggressive or unfair challenge they may be presented with a red or yellow card! \"\n",
    "    rules = Rule5 = \"The ball has to cross the line fully for it be a goal!  \"\n",
    "    rules = [Rule1 , Rule2 , Rule3 , Rule4 , Rule5]\n",
    "\n",
    "    print(\"Here presented to you are some of the rules of football. Type 'yes' to read the next rule or no for some more info! \")\n",
    "\n",
    "    for rule in rules:\n",
    "        while True:\n",
    "            answer=input(rule)\n",
    "            if answer == 'yes':\n",
    "                print(\"Great!\")\n",
    "                break\n",
    "            else:\n",
    "                print(\"Visit , https://www.theukrules.co.uk/rules/sport/football/top-ten-regulations.html , for a better understanding.\") \n"
   ]
  },
  {
   "cell_type": "code",
   "execution_count": 20,
   "id": "f8dc5f2a",
   "metadata": {
    "scrolled": false
   },
   "outputs": [
    {
     "name": "stdout",
     "output_type": "stream",
     "text": [
      "Here presented to you are some of the rules of football. Type 'yes' to read the next rule or no for some more info! \n",
      "No outfield player can use their hands except for goalkeepers and for throw-ins! yes\n",
      "Great!\n",
      "The opposition must have at least two players ahead of them in order to receive a pass on the oppositions side! yes\n",
      "Great!\n",
      "If the ball goes outside of the edge white lines then it is either a goal kick, corner kick or throw-in! yes\n",
      "Great!\n",
      "If the opposition makes a aggressive or unfair challenge they may be presented with a red or yellow card! yes\n",
      "Great!\n",
      "The ball has to cross the line fully for it be a goal!  yes\n",
      "Great!\n"
     ]
    }
   ],
   "source": [
    "rules(\"rr\")"
   ]
  },
  {
   "cell_type": "code",
   "execution_count": 21,
   "id": "f8a043da",
   "metadata": {},
   "outputs": [],
   "source": [
    "\n",
    "import pandas as pd\n",
    "from random import randrange\n",
    "\n",
    "d1=pd.read_csv('111.csv')\n",
    "num=randrange(37)\n",
    "\n",
    "\n",
    "def minigame(number):\n",
    "    money=50\n",
    "    a=True\n",
    "    print(\"Let's play a game for money! You start with £50 and if you reach £0 you lose but if you get to £125 then you win! Which team would you like to pick?\")\n",
    "    num=randrange(37)\n",
    "    while a:\n",
    "        import time \n",
    "        time.sleep(3)\n",
    "      \n",
    "        \n",
    "        kk= 'Manchester United v  ' , d1['Opponent'][num]\n",
    "        print('Pick a team!')\n",
    "        ans=input(kk)\n",
    "        if ans == 'Manchester United':\n",
    "            print(\"Okay!\")\n",
    "        elif ans == d1['Opponent'][num]:\n",
    "            print(\"Okay!\")\n",
    "        else:\n",
    "            print(\"Invalid Choice!\")\n",
    "        \n",
    "        print('Manchester United ',d1['GF'][num], d1['Opponent'][num],d1['GA'][num])\n",
    "        \n",
    "        if ans == 'Manchester United' and d1['GF'][num] > d1['GA'][num]:\n",
    "            print(\"Well done\")\n",
    "            money  = money + 25\n",
    "            num=randrange(37)\n",
    "            print('You have £',money)\n",
    "            if money == 125:\n",
    "                a=False\n",
    "\n",
    "        elif ans == d1['Opponent'][num] and d1['GF'][num] < d1['GA'][num]:\n",
    "            print(\"Well Done! \")\n",
    "            money  = money + 25\n",
    "            num=randrange(37)\n",
    "            print('You have £', money , '')\n",
    "            if money == 125:\n",
    "                a=False\n",
    "                print(\"YOU WIN!!!\")\n",
    "\n",
    "\n",
    "\n",
    "        else:\n",
    "            print(\"Unlucky!\")\n",
    "            money  = money - 25\n",
    "\n",
    "            num=randrange(37)\n",
    "            print('You have £',money)\n",
    "        if money == 0:\n",
    "            a=False\n",
    "            print(\"YOU LOSE!!!\")"
   ]
  },
  {
   "cell_type": "code",
   "execution_count": 22,
   "id": "91b5c9e7",
   "metadata": {
    "scrolled": false
   },
   "outputs": [
    {
     "name": "stdout",
     "output_type": "stream",
     "text": [
      "Let's play a game for money! You start with £50 and if you reach £0 you lose but if you get to £125 then you win! Which team would you like to pick?\n",
      "Pick a team!\n",
      "('Manchester United v  ', 'Norwich City') Manchester United\n",
      "Invalid Choice!\n",
      "Manchester United  4 Norwich City 0\n",
      "Unlucky!\n",
      "You have £ 25\n",
      "Pick a team!\n",
      "('Manchester United v  ', 'Manchester City')Manchester United\n",
      "Okay!\n",
      "Manchester United  2 Manchester City 0\n",
      "Well done\n",
      "You have £ 50\n",
      "Pick a team!\n"
     ]
    },
    {
     "ename": "KeyboardInterrupt",
     "evalue": "Interrupted by user",
     "output_type": "error",
     "traceback": [
      "\u001b[0;31m---------------------------------------------------------------------------\u001b[0m",
      "\u001b[0;31mKeyboardInterrupt\u001b[0m                         Traceback (most recent call last)",
      "\u001b[0;32m/var/folders/0r/bh2fw3dd64gd2s7xw99wkmk80000gn/T/ipykernel_16525/2965918646.py\u001b[0m in \u001b[0;36m<module>\u001b[0;34m\u001b[0m\n\u001b[0;32m----> 1\u001b[0;31m \u001b[0mminigame\u001b[0m\u001b[0;34m(\u001b[0m\u001b[0;34m\"t\"\u001b[0m\u001b[0;34m)\u001b[0m\u001b[0;34m\u001b[0m\u001b[0;34m\u001b[0m\u001b[0m\n\u001b[0m",
      "\u001b[0;32m/var/folders/0r/bh2fw3dd64gd2s7xw99wkmk80000gn/T/ipykernel_16525/889568708.py\u001b[0m in \u001b[0;36mminigame\u001b[0;34m(number)\u001b[0m\n\u001b[1;32m     18\u001b[0m         \u001b[0mkk\u001b[0m\u001b[0;34m=\u001b[0m \u001b[0;34m'Manchester United v  '\u001b[0m \u001b[0;34m,\u001b[0m \u001b[0md1\u001b[0m\u001b[0;34m[\u001b[0m\u001b[0;34m'Opponent'\u001b[0m\u001b[0;34m]\u001b[0m\u001b[0;34m[\u001b[0m\u001b[0mnum\u001b[0m\u001b[0;34m]\u001b[0m\u001b[0;34m\u001b[0m\u001b[0;34m\u001b[0m\u001b[0m\n\u001b[1;32m     19\u001b[0m         \u001b[0mprint\u001b[0m\u001b[0;34m(\u001b[0m\u001b[0;34m'Pick a team!'\u001b[0m\u001b[0;34m)\u001b[0m\u001b[0;34m\u001b[0m\u001b[0;34m\u001b[0m\u001b[0m\n\u001b[0;32m---> 20\u001b[0;31m         \u001b[0mans\u001b[0m\u001b[0;34m=\u001b[0m\u001b[0minput\u001b[0m\u001b[0;34m(\u001b[0m\u001b[0mkk\u001b[0m\u001b[0;34m)\u001b[0m\u001b[0;34m\u001b[0m\u001b[0;34m\u001b[0m\u001b[0m\n\u001b[0m\u001b[1;32m     21\u001b[0m         \u001b[0;32mif\u001b[0m \u001b[0mans\u001b[0m \u001b[0;34m==\u001b[0m \u001b[0;34m'Manchester United'\u001b[0m\u001b[0;34m:\u001b[0m\u001b[0;34m\u001b[0m\u001b[0;34m\u001b[0m\u001b[0m\n\u001b[1;32m     22\u001b[0m             \u001b[0mprint\u001b[0m\u001b[0;34m(\u001b[0m\u001b[0;34m\"Okay!\"\u001b[0m\u001b[0;34m)\u001b[0m\u001b[0;34m\u001b[0m\u001b[0;34m\u001b[0m\u001b[0m\n",
      "\u001b[0;32m~/opt/anaconda3/lib/python3.9/site-packages/ipykernel/kernelbase.py\u001b[0m in \u001b[0;36mraw_input\u001b[0;34m(self, prompt)\u001b[0m\n\u001b[1;32m   1175\u001b[0m                 \u001b[0;34m\"raw_input was called, but this frontend does not support input requests.\"\u001b[0m\u001b[0;34m\u001b[0m\u001b[0;34m\u001b[0m\u001b[0m\n\u001b[1;32m   1176\u001b[0m             )\n\u001b[0;32m-> 1177\u001b[0;31m         return self._input_request(\n\u001b[0m\u001b[1;32m   1178\u001b[0m             \u001b[0mstr\u001b[0m\u001b[0;34m(\u001b[0m\u001b[0mprompt\u001b[0m\u001b[0;34m)\u001b[0m\u001b[0;34m,\u001b[0m\u001b[0;34m\u001b[0m\u001b[0;34m\u001b[0m\u001b[0m\n\u001b[1;32m   1179\u001b[0m             \u001b[0mself\u001b[0m\u001b[0;34m.\u001b[0m\u001b[0m_parent_ident\u001b[0m\u001b[0;34m[\u001b[0m\u001b[0;34m\"shell\"\u001b[0m\u001b[0;34m]\u001b[0m\u001b[0;34m,\u001b[0m\u001b[0;34m\u001b[0m\u001b[0;34m\u001b[0m\u001b[0m\n",
      "\u001b[0;32m~/opt/anaconda3/lib/python3.9/site-packages/ipykernel/kernelbase.py\u001b[0m in \u001b[0;36m_input_request\u001b[0;34m(self, prompt, ident, parent, password)\u001b[0m\n\u001b[1;32m   1217\u001b[0m             \u001b[0;32mexcept\u001b[0m \u001b[0mKeyboardInterrupt\u001b[0m\u001b[0;34m:\u001b[0m\u001b[0;34m\u001b[0m\u001b[0;34m\u001b[0m\u001b[0m\n\u001b[1;32m   1218\u001b[0m                 \u001b[0;31m# re-raise KeyboardInterrupt, to truncate traceback\u001b[0m\u001b[0;34m\u001b[0m\u001b[0;34m\u001b[0m\u001b[0m\n\u001b[0;32m-> 1219\u001b[0;31m                 \u001b[0;32mraise\u001b[0m \u001b[0mKeyboardInterrupt\u001b[0m\u001b[0;34m(\u001b[0m\u001b[0;34m\"Interrupted by user\"\u001b[0m\u001b[0;34m)\u001b[0m \u001b[0;32mfrom\u001b[0m \u001b[0;32mNone\u001b[0m\u001b[0;34m\u001b[0m\u001b[0;34m\u001b[0m\u001b[0m\n\u001b[0m\u001b[1;32m   1220\u001b[0m             \u001b[0;32mexcept\u001b[0m \u001b[0mException\u001b[0m\u001b[0;34m:\u001b[0m\u001b[0;34m\u001b[0m\u001b[0;34m\u001b[0m\u001b[0m\n\u001b[1;32m   1221\u001b[0m                 \u001b[0mself\u001b[0m\u001b[0;34m.\u001b[0m\u001b[0mlog\u001b[0m\u001b[0;34m.\u001b[0m\u001b[0mwarning\u001b[0m\u001b[0;34m(\u001b[0m\u001b[0;34m\"Invalid Message:\"\u001b[0m\u001b[0;34m,\u001b[0m \u001b[0mexc_info\u001b[0m\u001b[0;34m=\u001b[0m\u001b[0;32mTrue\u001b[0m\u001b[0;34m)\u001b[0m\u001b[0;34m\u001b[0m\u001b[0;34m\u001b[0m\u001b[0m\n",
      "\u001b[0;31mKeyboardInterrupt\u001b[0m: Interrupted by user"
     ]
    }
   ],
   "source": [
    "minigame(\"t\")"
   ]
  },
  {
   "cell_type": "markdown",
   "id": "21612bc6",
   "metadata": {},
   "source": []
  },
  {
   "cell_type": "code",
   "execution_count": 5,
   "id": "c2c13cfc",
   "metadata": {},
   "outputs": [
    {
     "name": "stdout",
     "output_type": "stream",
     "text": [
      "<class 'dict'>\n",
      "{'get': 'standings', 'parameters': {'league': '39', 'season': '2022'}, 'errors': [], 'results': 1, 'paging': {'current': 1, 'total': 1}, 'response': [{'league': {'id': 39, 'name': 'Premier League', 'country': 'England', 'logo': 'https://media.api-sports.io/football/leagues/39.png', 'flag': 'https://media.api-sports.io/flags/gb.svg', 'season': 2022, 'standings': [[{'rank': 1, 'team': {'id': 42, 'name': 'Arsenal', 'logo': 'https://media.api-sports.io/football/teams/42.png'}, 'points': 37, 'goalsDiff': 22, 'group': 'Premier League', 'form': 'WWWDW', 'status': 'same', 'description': 'Promotion - Champions League (Group Stage)', 'all': {'played': 14, 'win': 12, 'draw': 1, 'lose': 1, 'goals': {'for': 33, 'against': 11}}, 'home': {'played': 6, 'win': 6, 'draw': 0, 'lose': 0, 'goals': {'for': 19, 'against': 7}}, 'away': {'played': 8, 'win': 6, 'draw': 1, 'lose': 1, 'goals': {'for': 14, 'against': 4}}, 'update': '2022-11-13T00:00:00+00:00'}, {'rank': 2, 'team': {'id': 50, 'name': 'Manchester City', 'logo': 'https://media.api-sports.io/football/teams/50.png'}, 'points': 32, 'goalsDiff': 26, 'group': 'Premier League', 'form': 'LWWWL', 'status': 'same', 'description': 'Promotion - Champions League (Group Stage)', 'all': {'played': 14, 'win': 10, 'draw': 2, 'lose': 2, 'goals': {'for': 40, 'against': 14}}, 'home': {'played': 8, 'win': 7, 'draw': 0, 'lose': 1, 'goals': {'for': 30, 'against': 9}}, 'away': {'played': 6, 'win': 3, 'draw': 2, 'lose': 1, 'goals': {'for': 10, 'against': 5}}, 'update': '2022-11-13T00:00:00+00:00'}, {'rank': 3, 'team': {'id': 34, 'name': 'Newcastle', 'logo': 'https://media.api-sports.io/football/teams/34.png'}, 'points': 30, 'goalsDiff': 18, 'group': 'Premier League', 'form': 'WWWWW', 'status': 'same', 'description': 'Promotion - Champions League (Group Stage)', 'all': {'played': 15, 'win': 8, 'draw': 6, 'lose': 1, 'goals': {'for': 29, 'against': 11}}, 'home': {'played': 8, 'win': 5, 'draw': 3, 'lose': 0, 'goals': {'for': 17, 'against': 5}}, 'away': {'played': 7, 'win': 3, 'draw': 3, 'lose': 1, 'goals': {'for': 12, 'against': 6}}, 'update': '2022-11-13T00:00:00+00:00'}, {'rank': 4, 'team': {'id': 47, 'name': 'Tottenham', 'logo': 'https://media.api-sports.io/football/teams/47.png'}, 'points': 29, 'goalsDiff': 10, 'group': 'Premier League', 'form': 'WLWLL', 'status': 'same', 'description': 'Promotion - Champions League (Group Stage)', 'all': {'played': 15, 'win': 9, 'draw': 2, 'lose': 4, 'goals': {'for': 31, 'against': 21}}, 'home': {'played': 8, 'win': 6, 'draw': 0, 'lose': 2, 'goals': {'for': 21, 'against': 11}}, 'away': {'played': 7, 'win': 3, 'draw': 2, 'lose': 2, 'goals': {'for': 10, 'against': 10}}, 'update': '2022-11-13T00:00:00+00:00'}, {'rank': 5, 'team': {'id': 33, 'name': 'Manchester United', 'logo': 'https://media.api-sports.io/football/teams/33.png'}, 'points': 26, 'goalsDiff': 0, 'group': 'Premier League', 'form': 'WLWDW', 'status': 'same', 'description': 'Promotion - Europa League (Group Stage)', 'all': {'played': 14, 'win': 8, 'draw': 2, 'lose': 4, 'goals': {'for': 20, 'against': 20}}, 'home': {'played': 6, 'win': 4, 'draw': 1, 'lose': 1, 'goals': {'for': 9, 'against': 4}}, 'away': {'played': 8, 'win': 4, 'draw': 1, 'lose': 3, 'goals': {'for': 11, 'against': 16}}, 'update': '2022-11-13T00:00:00+00:00'}, {'rank': 6, 'team': {'id': 40, 'name': 'Liverpool', 'logo': 'https://media.api-sports.io/football/teams/40.png'}, 'points': 22, 'goalsDiff': 11, 'group': 'Premier League', 'form': 'WWLLW', 'status': 'same', 'description': None, 'all': {'played': 14, 'win': 6, 'draw': 4, 'lose': 4, 'goals': {'for': 28, 'against': 17}}, 'home': {'played': 8, 'win': 5, 'draw': 2, 'lose': 1, 'goals': {'for': 21, 'against': 8}}, 'away': {'played': 6, 'win': 1, 'draw': 2, 'lose': 3, 'goals': {'for': 7, 'against': 9}}, 'update': '2022-11-13T00:00:00+00:00'}, {'rank': 7, 'team': {'id': 51, 'name': 'Brighton', 'logo': 'https://media.api-sports.io/football/teams/51.png'}, 'points': 21, 'goalsDiff': 4, 'group': 'Premier League', 'form': 'LWWLD', 'status': 'same', 'description': None, 'all': {'played': 14, 'win': 6, 'draw': 3, 'lose': 5, 'goals': {'for': 23, 'against': 19}}, 'home': {'played': 7, 'win': 3, 'draw': 2, 'lose': 2, 'goals': {'for': 11, 'against': 6}}, 'away': {'played': 7, 'win': 3, 'draw': 1, 'lose': 3, 'goals': {'for': 12, 'against': 13}}, 'update': '2022-11-13T00:00:00+00:00'}, {'rank': 8, 'team': {'id': 49, 'name': 'Chelsea', 'logo': 'https://media.api-sports.io/football/teams/49.png'}, 'points': 21, 'goalsDiff': 0, 'group': 'Premier League', 'form': 'LLLDD', 'status': 'same', 'description': None, 'all': {'played': 14, 'win': 6, 'draw': 3, 'lose': 5, 'goals': {'for': 17, 'against': 17}}, 'home': {'played': 6, 'win': 3, 'draw': 2, 'lose': 1, 'goals': {'for': 10, 'against': 6}}, 'away': {'played': 8, 'win': 3, 'draw': 1, 'lose': 4, 'goals': {'for': 7, 'against': 11}}, 'update': '2022-11-13T00:00:00+00:00'}, {'rank': 9, 'team': {'id': 36, 'name': 'Fulham', 'logo': 'https://media.api-sports.io/football/teams/36.png'}, 'points': 19, 'goalsDiff': -2, 'group': 'Premier League', 'form': 'LLDWW', 'status': 'same', 'description': None, 'all': {'played': 15, 'win': 5, 'draw': 4, 'lose': 6, 'goals': {'for': 24, 'against': 26}}, 'home': {'played': 8, 'win': 3, 'draw': 3, 'lose': 2, 'goals': {'for': 14, 'against': 13}}, 'away': {'played': 7, 'win': 2, 'draw': 1, 'lose': 4, 'goals': {'for': 10, 'against': 13}}, 'update': '2022-11-13T00:00:00+00:00'}, {'rank': 10, 'team': {'id': 55, 'name': 'Brentford', 'logo': 'https://media.api-sports.io/football/teams/55.png'}, 'points': 19, 'goalsDiff': -2, 'group': 'Premier League', 'form': 'WDDLD', 'status': 'same', 'description': None, 'all': {'played': 15, 'win': 4, 'draw': 7, 'lose': 4, 'goals': {'for': 23, 'against': 25}}, 'home': {'played': 7, 'win': 3, 'draw': 3, 'lose': 1, 'goals': {'for': 13, 'against': 7}}, 'away': {'played': 8, 'win': 1, 'draw': 4, 'lose': 3, 'goals': {'for': 10, 'against': 18}}, 'update': '2022-11-13T00:00:00+00:00'}, {'rank': 11, 'team': {'id': 52, 'name': 'Crystal Palace', 'logo': 'https://media.api-sports.io/football/teams/52.png'}, 'points': 19, 'goalsDiff': -3, 'group': 'Premier League', 'form': 'LWWLW', 'status': 'same', 'description': None, 'all': {'played': 14, 'win': 5, 'draw': 4, 'lose': 5, 'goals': {'for': 15, 'against': 18}}, 'home': {'played': 7, 'win': 4, 'draw': 1, 'lose': 2, 'goals': {'for': 10, 'against': 8}}, 'away': {'played': 7, 'win': 1, 'draw': 3, 'lose': 3, 'goals': {'for': 5, 'against': 10}}, 'update': '2022-11-13T00:00:00+00:00'}, {'rank': 12, 'team': {'id': 66, 'name': 'Aston Villa', 'logo': 'https://media.api-sports.io/football/teams/66.png'}, 'points': 18, 'goalsDiff': -6, 'group': 'Premier League', 'form': 'WWLWL', 'status': 'same', 'description': None, 'all': {'played': 15, 'win': 5, 'draw': 3, 'lose': 7, 'goals': {'for': 16, 'against': 22}}, 'home': {'played': 7, 'win': 4, 'draw': 1, 'lose': 2, 'goals': {'for': 11, 'against': 6}}, 'away': {'played': 8, 'win': 1, 'draw': 2, 'lose': 5, 'goals': {'for': 5, 'against': 16}}, 'update': '2022-11-13T00:00:00+00:00'}, {'rank': 13, 'team': {'id': 46, 'name': 'Leicester', 'logo': 'https://media.api-sports.io/football/teams/46.png'}, 'points': 17, 'goalsDiff': 0, 'group': 'Premier League', 'form': 'WWLWW', 'status': 'same', 'description': None, 'all': {'played': 15, 'win': 5, 'draw': 2, 'lose': 8, 'goals': {'for': 25, 'against': 25}}, 'home': {'played': 7, 'win': 2, 'draw': 2, 'lose': 3, 'goals': {'for': 9, 'against': 6}}, 'away': {'played': 8, 'win': 3, 'draw': 0, 'lose': 5, 'goals': {'for': 16, 'against': 19}}, 'update': '2022-11-13T00:00:00+00:00'}, {'rank': 14, 'team': {'id': 35, 'name': 'Bournemouth', 'logo': 'https://media.api-sports.io/football/teams/35.png'}, 'points': 16, 'goalsDiff': -14, 'group': 'Premier League', 'form': 'WLLLL', 'status': 'same', 'description': None, 'all': {'played': 15, 'win': 4, 'draw': 4, 'lose': 7, 'goals': {'for': 18, 'against': 32}}, 'home': {'played': 8, 'win': 3, 'draw': 2, 'lose': 3, 'goals': {'for': 9, 'against': 8}}, 'away': {'played': 7, 'win': 1, 'draw': 2, 'lose': 4, 'goals': {'for': 9, 'against': 24}}, 'update': '2022-11-13T00:00:00+00:00'}, {'rank': 15, 'team': {'id': 63, 'name': 'Leeds', 'logo': 'https://media.api-sports.io/football/teams/63.png'}, 'points': 15, 'goalsDiff': -4, 'group': 'Premier League', 'form': 'LWWLL', 'status': 'same', 'description': None, 'all': {'played': 14, 'win': 4, 'draw': 3, 'lose': 7, 'goals': {'for': 22, 'against': 26}}, 'home': {'played': 7, 'win': 3, 'draw': 2, 'lose': 2, 'goals': {'for': 12, 'against': 9}}, 'away': {'played': 7, 'win': 1, 'draw': 1, 'lose': 5, 'goals': {'for': 10, 'against': 17}}, 'update': '2022-11-13T00:00:00+00:00'}, {'rank': 16, 'team': {'id': 48, 'name': 'West Ham', 'logo': 'https://media.api-sports.io/football/teams/48.png'}, 'points': 14, 'goalsDiff': -5, 'group': 'Premier League', 'form': 'LLLWL', 'status': 'same', 'description': None, 'all': {'played': 15, 'win': 4, 'draw': 2, 'lose': 9, 'goals': {'for': 12, 'against': 17}}, 'home': {'played': 8, 'win': 3, 'draw': 1, 'lose': 4, 'goals': {'for': 9, 'against': 10}}, 'away': {'played': 7, 'win': 1, 'draw': 1, 'lose': 5, 'goals': {'for': 3, 'against': 7}}, 'update': '2022-11-13T00:00:00+00:00'}, {'rank': 17, 'team': {'id': 45, 'name': 'Everton', 'logo': 'https://media.api-sports.io/football/teams/45.png'}, 'points': 14, 'goalsDiff': -6, 'group': 'Premier League', 'form': 'LLDWL', 'status': 'same', 'description': None, 'all': {'played': 15, 'win': 3, 'draw': 5, 'lose': 7, 'goals': {'for': 11, 'against': 17}}, 'home': {'played': 7, 'win': 2, 'draw': 2, 'lose': 3, 'goals': {'for': 6, 'against': 6}}, 'away': {'played': 8, 'win': 1, 'draw': 3, 'lose': 4, 'goals': {'for': 5, 'against': 11}}, 'update': '2022-11-13T00:00:00+00:00'}, {'rank': 18, 'team': {'id': 65, 'name': 'Nottingham Forest', 'logo': 'https://media.api-sports.io/football/teams/65.png'}, 'points': 13, 'goalsDiff': -19, 'group': 'Premier League', 'form': 'WDLWD', 'status': 'same', 'description': 'Relegation - Championship', 'all': {'played': 15, 'win': 3, 'draw': 4, 'lose': 8, 'goals': {'for': 11, 'against': 30}}, 'home': {'played': 8, 'win': 3, 'draw': 2, 'lose': 3, 'goals': {'for': 10, 'against': 11}}, 'away': {'played': 7, 'win': 0, 'draw': 2, 'lose': 5, 'goals': {'for': 1, 'against': 19}}, 'update': '2022-11-13T00:00:00+00:00'}, {'rank': 19, 'team': {'id': 41, 'name': 'Southampton', 'logo': 'https://media.api-sports.io/football/teams/41.png'}, 'points': 12, 'goalsDiff': -14, 'group': 'Premier League', 'form': 'LLLDW', 'status': 'same', 'description': 'Relegation - Championship', 'all': {'played': 15, 'win': 3, 'draw': 3, 'lose': 9, 'goals': {'for': 13, 'against': 27}}, 'home': {'played': 7, 'win': 1, 'draw': 3, 'lose': 3, 'goals': {'for': 8, 'against': 12}}, 'away': {'played': 8, 'win': 2, 'draw': 0, 'lose': 6, 'goals': {'for': 5, 'against': 15}}, 'update': '2022-11-13T00:00:00+00:00'}, {'rank': 20, 'team': {'id': 39, 'name': 'Wolves', 'logo': 'https://media.api-sports.io/football/teams/39.png'}, 'points': 10, 'goalsDiff': -16, 'group': 'Premier League', 'form': 'LLDLL', 'status': 'same', 'description': 'Relegation - Championship', 'all': {'played': 15, 'win': 2, 'draw': 4, 'lose': 9, 'goals': {'for': 8, 'against': 24}}, 'home': {'played': 8, 'win': 2, 'draw': 2, 'lose': 4, 'goals': {'for': 5, 'against': 13}}, 'away': {'played': 7, 'win': 0, 'draw': 2, 'lose': 5, 'goals': {'for': 3, 'against': 11}}, 'update': '2022-11-13T00:00:00+00:00'}]]}}]}\n"
     ]
    }
   ],
   "source": [
    "import requests\n",
    "\n",
    "url = \"https://api-football-beta.p.rapidapi.com/standings\"\n",
    "\n",
    "querystring = {\"season\":\"2022\",\"league\":\"39\"}\n",
    "\n",
    "headers = {\n",
    "\t\"X-RapidAPI-Key\": \"b7cf950dddmsh7909c2d31444039p1a7716jsnaed17a1b9be9\",\n",
    "\t\"X-RapidAPI-Host\": \"api-football-beta.p.rapidapi.com\"\n",
    "}\n",
    "\n",
    "response = requests.request(\"GET\", url, headers=headers, params=querystring)\n",
    "\n",
    "print(type(response.json()))\n",
    "print(response.json())\n",
    "hj = response.json()"
   ]
  },
  {
   "cell_type": "code",
   "execution_count": 45,
   "id": "6e89f8c7",
   "metadata": {
    "scrolled": true
   },
   "outputs": [],
   "source": [
    "def standings(r):\n",
    "    qa=int(input(\"Type in a number 1-20 to find the team in that position on the Premier League table. \"))\n",
    "    if qa >= 1 and qa <= 20:\n",
    "        qa = qa -1\n",
    "        print(str(hj['response'][0]['league']['standings'][0][qa]['team']['name']))\n",
    "    else:\n",
    "        print(\"Invalid request\")\n",
    "\n",
    "\n",
    "\n",
    "    a = str(hj['response'][0]['league']['standings'][0][0]['team']['name'])\n",
    "    b = str(hj['response'][0]['league']['standings'][0][qa]['form'])\n",
    "    c=  str(hj['response'][0]['league']['standings'][0][qa]['description'])\n",
    "    d = str(hj['response'][0]['league']['standings'][0][qa]['points'])\n",
    "    t=True\n",
    "    q=input(\"What would you like to know? (E.G. points , form , future , wins , losses)\")\n",
    "    standings = [a,b,c]\n",
    "    for standing in standings:\n",
    "        while t:\n",
    "            if q == 'form':\n",
    "                print('Their current form is ' , b)\n",
    "                t=False\n",
    "            elif q == 'future':\n",
    "                print(\"They are currently headed towards \",c)\n",
    "                t=False\n",
    "            elif q== 'wins':\n",
    "                print(\"They currently have \",hj['response'][0]['league']['standings'][0][qa]['all']['win'],\"wins\")\n",
    "                t=False\n",
    "            elif q == 'losses':\n",
    "                print(\"They currently have \",hj['response'][0]['league']['standings'][0][qa]['all']['lose'],\"losses\")\n",
    "                t=False\n",
    "            elif q == 'points':\n",
    "                print(\"They currently have \",d,\"points\")\n",
    "                t=False\n",
    "            else:\n",
    "                print('Invalid Request')\n",
    "                break\n",
    "\n",
    "               \n"
   ]
  },
  {
   "cell_type": "code",
   "execution_count": 47,
   "id": "2d1c64b9",
   "metadata": {
    "scrolled": true
   },
   "outputs": [
    {
     "name": "stdout",
     "output_type": "stream",
     "text": [
      "Type in a number 1-20 to find the team in that position on the Premier League table. 4\n",
      "Tottenham\n",
      "What would you like to know? (E.G. points , form , future , wins , losses)wins\n",
      "They currently have  9 wins\n",
      "Would you like to try again? Type 'yes' or 'no'.no\n",
      "Okay,that's fine!\n"
     ]
    }
   ],
   "source": [
    "z=True\n",
    "standings(\"ty\")\n",
    "while z:\n",
    "    w=input(\"Would you like to try again? Type 'yes' or 'no'.\")\n",
    "    if w == 'yes':\n",
    "        standings('ty')\n",
    "    else:\n",
    "        print(\"Okay,that's fine!\")\n",
    "        z=False"
   ]
  },
  {
   "cell_type": "code",
   "execution_count": null,
   "id": "05712138",
   "metadata": {},
   "outputs": [],
   "source": []
  }
 ],
 "metadata": {
  "kernelspec": {
   "display_name": "Python 3 (ipykernel)",
   "language": "python",
   "name": "python3"
  },
  "language_info": {
   "codemirror_mode": {
    "name": "ipython",
    "version": 3
   },
   "file_extension": ".py",
   "mimetype": "text/x-python",
   "name": "python",
   "nbconvert_exporter": "python",
   "pygments_lexer": "ipython3",
   "version": "3.9.13"
  }
 },
 "nbformat": 4,
 "nbformat_minor": 5
}
