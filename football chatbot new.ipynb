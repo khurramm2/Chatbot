{
 "cells": [
  {
   "cell_type": "code",
   "execution_count": 1,
   "id": "dcfbc6ec",
   "metadata": {},
   "outputs": [],
   "source": [
    "import re\n",
    "from collections import Counter\n",
    "import spacy\n",
    "word2vec = spacy.load(\"en_core_web_sm\")\n",
    "from nltk import pos_tag\n",
    "from nltk.tokenize import word_tokenize\n",
    "from nltk.corpus import stopwords\n",
    "stop_words = set(stopwords.words(\"english\"))"
   ]
  },
  {
   "cell_type": "code",
   "execution_count": 2,
   "id": "39d8da1e",
   "metadata": {},
   "outputs": [],
   "source": [
    "#replace spacy.load(\"en\") with spacy.load(\"en_core_web_sm\")\n",
    "#nltk.download(\"stopwords\")\n",
    "#nltk.download('punkt')\n",
    "#python -m spacy download en   ...do this in the conda terminal"
   ]
  },
  {
   "cell_type": "code",
   "execution_count": 3,
   "id": "3f6e82ec",
   "metadata": {},
   "outputs": [],
   "source": [
    "\n",
    "    import requests\n",
    "\n",
    "    url = \"https://api-football-beta.p.rapidapi.com/players/topscorers\"\n",
    "\n",
    "    querystring = {\"season\":\"2022\",\"league\":\"39\"}\n",
    "\n",
    "    headers = {\n",
    "        \"X-RapidAPI-Key\": \"62a02ca5ccmsha68a5acf6c698d9p1ffc12jsnbe2b9a765139\",\n",
    "        \"X-RapidAPI-Host\": \"api-football-beta.p.rapidapi.com\"\n",
    "    }\n",
    "\n",
    "    response = requests.request(\"GET\", url, headers=headers, params=querystring)\n",
    "\n",
    "    #print (type(response.json()))\n",
    "    #print(response.json())\n",
    "    df = response.json()"
   ]
  },
  {
   "cell_type": "code",
   "execution_count": 17,
   "id": "d065065d",
   "metadata": {},
   "outputs": [],
   "source": [
    "def askplayer(name):\n",
    "        askq = input(\"I know a lot about football, if you want I can tell you about some of the top scorers in the premiere league. So what do you say, Yes or No? \")\n",
    "        if askq =='yes' or askq == 'Yes':\n",
    "            print(\"Here are the names of some of the top scorers I know, Choose any of those names and I'll tell you all about them\")\n",
    "            print(\"E. Haaland, H. Kane, A. Mitrović, I. Toney, L. Trossard, M. Almirón, P. Foden, Roberto Firmino\")  \n",
    "           #playerchoose = input(\"So what's your choice \")\n",
    "            while True:\n",
    "                playerchoose = input(\"So what's your choice \")\n",
    "                if playerchoose in playercode.keys():\n",
    "                    playerid = (playercode[playerchoose])\n",
    "                    #print(playerid)\n",
    "                    print(\"Ah yes... \" + playerchoose + \"I know all about him. Did you know in this season he has scored a total of \" \n",
    "                          + str(goals) + \" goals and he's attempted a grande total of \" + str(shot) +\" shots\")\n",
    "                    break\n",
    "\n",
    "\n",
    "\n",
    "\n",
    "                else:\n",
    "                    print(\"That's not one of the names I gave you... Try again.\")\n",
    "                    "
   ]
  },
  {
   "cell_type": "code",
   "execution_count": 12,
   "id": "96a828e5",
   "metadata": {},
   "outputs": [],
   "source": [
    "playerid = 0\n",
    "goals = df['response'][playerid]['statistics'][0]['goals']['total']\n",
    "shot = df['response'][playerid]['statistics'][0]['shots']['total']\n",
    "passing = df['response'][playerid]['statistics'][0]['passes']['total']\n",
    "playercode = {'E. Haaland':0, 'H. Kane':1, 'A. Mitrović':2, 'I. Toney':3, 'L. Trossard':4, 'M. Almirón':5, 'P. Foden':6, 'Roberto Firmino':7}"
   ]
  },
  {
   "cell_type": "code",
   "execution_count": 4,
   "id": "8aed2bce",
   "metadata": {},
   "outputs": [],
   "source": [
    "#askplayer(\"s\")\n",
    "#askp = askplayer(\"s\")"
   ]
  },
  {
   "cell_type": "code",
   "execution_count": 5,
   "id": "d8a5ba5c",
   "metadata": {
    "scrolled": true
   },
   "outputs": [],
   "source": [
    "response_a = \"I am an expert at football\"\n",
    "response_b = \"I hate Manchester City\"\n",
    "response_c = \"yeah I like {}\"\n",
    "response_d = \"my favorite team is Manchester United\"\n",
    "response_e = \"I've been watching football since I was two\"\n",
    "blank_spot = \"player\"\n",
    "\n",
    "\n",
    "responses = [response_a, response_b, response_c, response_d, response_e]"
   ]
  },
  {
   "cell_type": "code",
   "execution_count": null,
   "id": "e5cd0c6b",
   "metadata": {},
   "outputs": [],
   "source": []
  },
  {
   "cell_type": "code",
   "execution_count": 14,
   "id": "75e8c424",
   "metadata": {},
   "outputs": [],
   "source": [
    "exit_commands = (\"quit\", \"goodbye\", \"exit\", \"no\",\"bye\")"
   ]
  },
  {
   "cell_type": "code",
   "execution_count": 7,
   "id": "0e6c987b",
   "metadata": {},
   "outputs": [],
   "source": [
    "def preprocess(input_sentence):\n",
    "    input_sentence = input_sentence.lower()\n",
    "    input_sentence = re.sub(r'[^\\w\\s]','',input_sentence)\n",
    "    tokens = word_tokenize(input_sentence)\n",
    "    input_sentence = [i for i in tokens if not i in stop_words]\n",
    "    return(input_sentence)\n",
    "\n",
    "def compare_overlap(user_message, possible_response):\n",
    "    similar_words = 0\n",
    "    for token in user_message:\n",
    "        if token in possible_response:\n",
    "              similar_words += 1\n",
    "    return similar_words\n",
    "  \n",
    "def extract_nouns(tagged_message):\n",
    "    message_nouns = list()\n",
    "    for token in tagged_message:\n",
    "        if token[1].startswith(\"N\"):\n",
    "            message_nouns.append(token[0])\n",
    "    return message_nouns\n",
    "\n",
    "def compute_similarity(tokens, category):\n",
    "    output_list = list()\n",
    "    for token in tokens:\n",
    "        output_list.append([token.text, category.text, token.similarity(category)])\n",
    "    return output_list\n",
    "  \n"
   ]
  },
  {
   "cell_type": "code",
   "execution_count": 16,
   "id": "88a940bd",
   "metadata": {},
   "outputs": [
    {
     "name": "stdout",
     "output_type": "stream",
     "text": [
      "Hey! I know a lot about football is there anything you want to know? bye\n",
      "Ok, bye!\n"
     ]
    }
   ],
   "source": [
    "class ChatBot:\n",
    "\n",
    "    def make_exit(self, user_message):\n",
    "        for exit_command in exit_commands:\n",
    "            if exit_command in user_message:\n",
    "                print(\"Ok, bye!\")\n",
    "                return True\n",
    "        \n",
    "    def chat(self):\n",
    "        user_message = input(\"Hey! I know a lot about football is there anything you want to know? \")\n",
    "        while not self.make_exit(user_message):\n",
    "            user_message = self.respond(user_message)\n",
    "        \n",
    "\n",
    "    \n",
    "    def find_intent_match(self, responses, user_message):\n",
    "        bow_user_message = Counter(preprocess(user_message))\n",
    "        processed_responses = [Counter(preprocess(response)) for response in responses]\n",
    "        similarity_list = [compare_overlap(doc, bow_user_message) for doc in processed_responses]\n",
    "        response_index = similarity_list.index(max(similarity_list))\n",
    "        return responses[response_index]\n",
    "\n",
    "\n",
    "    def respond(self, user_message):\n",
    "        best_response = self.find_intent_match(responses, user_message)\n",
    "        entity = self.find_entities(user_message)\n",
    "        print(best_response.format(entity))\n",
    "        input_message = input(\"Do you have any other questions? \")           \n",
    "        return input_message\n",
    "        \n",
    "    def find_entities(self, user_message):\n",
    "          # extract candidate entities\n",
    "        tagged_user_message = pos_tag(preprocess(user_message))\n",
    "        message_nouns = extract_nouns(tagged_user_message)\n",
    "        tokens = word2vec(\" \".join(message_nouns))\n",
    "        category = word2vec(blank_spot)\n",
    "        word2vec_result = compute_similarity(tokens, category)\n",
    "        word2vec_result.sort(key=lambda x: x[2])\n",
    "        if len(word2vec_result) < 1:\n",
    "            return blank_spot\n",
    "        else:\n",
    "            return word2vec_result[-1][0]\n",
    "\n",
    "\n",
    "cantina_bot = ChatBot()\n",
    "cantina_bot.chat()"
   ]
  },
  {
   "cell_type": "code",
   "execution_count": null,
   "id": "700f3b99",
   "metadata": {},
   "outputs": [],
   "source": []
  }
 ],
 "metadata": {
  "kernelspec": {
   "display_name": "Python 3 (ipykernel)",
   "language": "python",
   "name": "python3"
  },
  "language_info": {
   "codemirror_mode": {
    "name": "ipython",
    "version": 3
   },
   "file_extension": ".py",
   "mimetype": "text/x-python",
   "name": "python",
   "nbconvert_exporter": "python",
   "pygments_lexer": "ipython3",
   "version": "3.9.13"
  }
 },
 "nbformat": 4,
 "nbformat_minor": 5
}
