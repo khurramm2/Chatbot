{
 "cells": [
  {
   "cell_type": "code",
   "execution_count": 1,
   "id": "09658aef",
   "metadata": {},
   "outputs": [],
   "source": [
    "import pandas as pd\n",
    "from collections import defaultdict"
   ]
  },
  {
   "cell_type": "code",
   "execution_count": null,
   "id": "7867c4e0",
   "metadata": {},
   "outputs": [],
   "source": []
  },
  {
   "cell_type": "code",
   "execution_count": 2,
   "id": "91940acf",
   "metadata": {},
   "outputs": [
    {
     "name": "stdout",
     "output_type": "stream",
     "text": [
      "<class 'dict'>\n",
      "{'get': 'players/topscorers', 'parameters': {'league': '39', 'season': '2022'}, 'errors': [], 'results': 20, 'paging': {'current': 0, 'total': 1}, 'response': [{'player': {'id': 1100, 'name': 'E. Haaland', 'firstname': 'Erling', 'lastname': 'Braut Haaland', 'age': 22, 'birth': {'date': '2000-07-21', 'place': 'Leeds', 'country': 'England'}, 'nationality': 'Norway', 'height': '194 cm', 'weight': '88 kg', 'injured': False, 'photo': 'https://media.api-sports.io/football/players/1100.png'}, 'statistics': [{'team': {'id': 50, 'name': 'Manchester City', 'logo': 'https://media.api-sports.io/football/teams/50.png'}, 'league': {'id': 39, 'name': 'Premier League', 'country': 'England', 'logo': 'https://media.api-sports.io/football/leagues/39.png', 'flag': 'https://media.api-sports.io/flags/gb.svg', 'season': 2022}, 'games': {'appearences': 11, 'lineups': 11, 'minutes': 925, 'number': None, 'position': 'Attacker', 'rating': '7.954545', 'captain': False}, 'substitutes': {'in': 0, 'out': 5, 'bench': 0}, 'shots': {'total': 41, 'on': 27}, 'goals': {'total': 17, 'conceded': 0, 'assists': 3, 'saves': None}, 'passes': {'total': 165, 'key': 11, 'accuracy': 11}, 'tackles': {'total': 1, 'blocks': None, 'interceptions': 1}, 'duels': {'total': 58, 'won': 20}, 'dribbles': {'attempts': 11, 'success': 4, 'past': None}, 'fouls': {'drawn': 8, 'committed': 8}, 'cards': {'yellow': 0, 'yellowred': 0, 'red': 0}, 'penalty': {'won': None, 'commited': None, 'scored': 2, 'missed': 0, 'saved': None}}]}, {'player': {'id': 184, 'name': 'H. Kane', 'firstname': 'Harry Edward', 'lastname': 'Kane', 'age': 29, 'birth': {'date': '1993-07-28', 'place': 'London', 'country': 'England'}, 'nationality': 'England', 'height': '188 cm', 'weight': '86 kg', 'injured': False, 'photo': 'https://media.api-sports.io/football/players/184.png'}, 'statistics': [{'team': {'id': 47, 'name': 'Tottenham', 'logo': 'https://media.api-sports.io/football/teams/47.png'}, 'league': {'id': 39, 'name': 'Premier League', 'country': 'England', 'logo': 'https://media.api-sports.io/football/leagues/39.png', 'flag': 'https://media.api-sports.io/flags/gb.svg', 'season': 2022}, 'games': {'appearences': 13, 'lineups': 13, 'minutes': 1158, 'number': None, 'position': 'Attacker', 'rating': '7.392307', 'captain': False}, 'substitutes': {'in': 0, 'out': 3, 'bench': 0}, 'shots': {'total': 35, 'on': 25}, 'goals': {'total': 10, 'conceded': 0, 'assists': 1, 'saves': None}, 'passes': {'total': 290, 'key': 25, 'accuracy': 16}, 'tackles': {'total': 4, 'blocks': 2, 'interceptions': None}, 'duels': {'total': 142, 'won': 52}, 'dribbles': {'attempts': 36, 'success': 13, 'past': None}, 'fouls': {'drawn': 18, 'committed': 9}, 'cards': {'yellow': 4, 'yellowred': 0, 'red': 0}, 'penalty': {'won': None, 'commited': None, 'scored': 2, 'missed': 1, 'saved': None}}]}, {'player': {'id': 2825, 'name': 'A. Mitrović', 'firstname': 'Aleksandar', 'lastname': 'Mitrović', 'age': 28, 'birth': {'date': '1994-09-16', 'place': 'Smederevo', 'country': 'Serbia'}, 'nationality': 'Serbia', 'height': '187 cm', 'weight': '90 kg', 'injured': False, 'photo': 'https://media.api-sports.io/football/players/2825.png'}, 'statistics': [{'team': {'id': 36, 'name': 'Fulham', 'logo': 'https://media.api-sports.io/football/teams/36.png'}, 'league': {'id': 39, 'name': 'Premier League', 'country': 'England', 'logo': 'https://media.api-sports.io/football/leagues/39.png', 'flag': 'https://media.api-sports.io/flags/gb.svg', 'season': 2022}, 'games': {'appearences': 12, 'lineups': 12, 'minutes': 1021, 'number': None, 'position': 'Attacker', 'rating': '7.333333', 'captain': False}, 'substitutes': {'in': 0, 'out': 5, 'bench': 0}, 'shots': {'total': 45, 'on': 22}, 'goals': {'total': 9, 'conceded': 0, 'assists': None, 'saves': None}, 'passes': {'total': 236, 'key': 11, 'accuracy': 11}, 'tackles': {'total': 9, 'blocks': 3, 'interceptions': 1}, 'duels': {'total': 206, 'won': 99}, 'dribbles': {'attempts': 24, 'success': 13, 'past': None}, 'fouls': {'drawn': 15, 'committed': 13}, 'cards': {'yellow': 4, 'yellowred': 0, 'red': 0}, 'penalty': {'won': None, 'commited': None, 'scored': 3, 'missed': 1, 'saved': None}}]}, {'player': {'id': 19974, 'name': 'I. Toney', 'firstname': 'Ivan', 'lastname': 'Toney', 'age': 26, 'birth': {'date': '1996-03-16', 'place': 'Northampton', 'country': 'England'}, 'nationality': 'England', 'height': '179 cm', 'weight': '70 kg', 'injured': False, 'photo': 'https://media.api-sports.io/football/players/19974.png'}, 'statistics': [{'team': {'id': 55, 'name': 'Brentford', 'logo': 'https://media.api-sports.io/football/teams/55.png'}, 'league': {'id': 39, 'name': 'Premier League', 'country': 'England', 'logo': 'https://media.api-sports.io/football/leagues/39.png', 'flag': 'https://media.api-sports.io/flags/gb.svg', 'season': 2022}, 'games': {'appearences': 13, 'lineups': 13, 'minutes': 1170, 'number': None, 'position': 'Attacker', 'rating': '7.323076', 'captain': False}, 'substitutes': {'in': 0, 'out': 0, 'bench': 0}, 'shots': {'total': 31, 'on': 14}, 'goals': {'total': 8, 'conceded': 0, 'assists': 2, 'saves': None}, 'passes': {'total': 283, 'key': 14, 'accuracy': 14}, 'tackles': {'total': 11, 'blocks': 2, 'interceptions': 5}, 'duels': {'total': 177, 'won': 76}, 'dribbles': {'attempts': 18, 'success': 5, 'past': None}, 'fouls': {'drawn': 24, 'committed': 21}, 'cards': {'yellow': 5, 'yellowred': 0, 'red': 0}, 'penalty': {'won': None, 'commited': None, 'scored': 3, 'missed': 0, 'saved': None}}]}, {'player': {'id': 1946, 'name': 'L. Trossard', 'firstname': 'Leandro', 'lastname': 'Trossard', 'age': 28, 'birth': {'date': '1994-12-04', 'place': 'Waterschei', 'country': 'Belgium'}, 'nationality': 'Belgium', 'height': '171 cm', 'weight': '61 kg', 'injured': False, 'photo': 'https://media.api-sports.io/football/players/1946.png'}, 'statistics': [{'team': {'id': 51, 'name': 'Brighton', 'logo': 'https://media.api-sports.io/football/teams/51.png'}, 'league': {'id': 39, 'name': 'Premier League', 'country': 'England', 'logo': 'https://media.api-sports.io/football/leagues/39.png', 'flag': 'https://media.api-sports.io/flags/gb.svg', 'season': 2022}, 'games': {'appearences': 12, 'lineups': 12, 'minutes': 1011, 'number': None, 'position': 'Attacker', 'rating': '7.216666', 'captain': False}, 'substitutes': {'in': 0, 'out': 8, 'bench': 0}, 'shots': {'total': 21, 'on': 15}, 'goals': {'total': 7, 'conceded': 0, 'assists': 1, 'saves': None}, 'passes': {'total': 362, 'key': 18, 'accuracy': 22}, 'tackles': {'total': 9, 'blocks': None, 'interceptions': 6}, 'duels': {'total': 88, 'won': 34}, 'dribbles': {'attempts': 26, 'success': 10, 'past': None}, 'fouls': {'drawn': 11, 'committed': 7}, 'cards': {'yellow': 1, 'yellowred': 0, 'red': 0}, 'penalty': {'won': None, 'commited': None, 'scored': 0, 'missed': 0, 'saved': None}}]}, {'player': {'id': 2507, 'name': 'M. Almirón', 'firstname': 'Miguel Ángel', 'lastname': 'Almirón Rejala', 'age': 28, 'birth': {'date': '1994-02-10', 'place': 'Asunción', 'country': 'Paraguay'}, 'nationality': 'Paraguay', 'height': '174 cm', 'weight': '63 kg', 'injured': False, 'photo': 'https://media.api-sports.io/football/players/2507.png'}, 'statistics': [{'team': {'id': 34, 'name': 'Newcastle', 'logo': 'https://media.api-sports.io/football/teams/34.png'}, 'league': {'id': 39, 'name': 'Premier League', 'country': 'England', 'logo': 'https://media.api-sports.io/football/leagues/39.png', 'flag': 'https://media.api-sports.io/flags/gb.svg', 'season': 2022}, 'games': {'appearences': 13, 'lineups': 13, 'minutes': 1093, 'number': None, 'position': 'Midfielder', 'rating': '7.169230', 'captain': False}, 'substitutes': {'in': 0, 'out': 9, 'bench': 0}, 'shots': {'total': 21, 'on': 12}, 'goals': {'total': 7, 'conceded': 0, 'assists': None, 'saves': None}, 'passes': {'total': 394, 'key': 9, 'accuracy': 26}, 'tackles': {'total': 19, 'blocks': 2, 'interceptions': 2}, 'duels': {'total': 83, 'won': 43}, 'dribbles': {'attempts': 27, 'success': 12, 'past': None}, 'fouls': {'drawn': 10, 'committed': 9}, 'cards': {'yellow': 0, 'yellowred': 0, 'red': 0}, 'penalty': {'won': None, 'commited': None, 'scored': 0, 'missed': 0, 'saved': None}}]}, {'player': {'id': 631, 'name': 'P. Foden', 'firstname': 'Philip Walter', 'lastname': 'Foden', 'age': 22, 'birth': {'date': '2000-05-28', 'place': 'Stockport', 'country': 'England'}, 'nationality': 'England', 'height': '171 cm', 'weight': '70 kg', 'injured': False, 'photo': 'https://media.api-sports.io/football/players/631.png'}, 'statistics': [{'team': {'id': 50, 'name': 'Manchester City', 'logo': 'https://media.api-sports.io/football/teams/50.png'}, 'league': {'id': 39, 'name': 'Premier League', 'country': 'England', 'logo': 'https://media.api-sports.io/football/leagues/39.png', 'flag': 'https://media.api-sports.io/flags/gb.svg', 'season': 2022}, 'games': {'appearences': 12, 'lineups': 10, 'minutes': 795, 'number': None, 'position': 'Midfielder', 'rating': '7.466666', 'captain': False}, 'substitutes': {'in': 2, 'out': 6, 'bench': 2}, 'shots': {'total': 17, 'on': 12}, 'goals': {'total': 6, 'conceded': 0, 'assists': 3, 'saves': None}, 'passes': {'total': 440, 'key': 19, 'accuracy': 31}, 'tackles': {'total': 10, 'blocks': 1, 'interceptions': 3}, 'duels': {'total': 79, 'won': 35}, 'dribbles': {'attempts': 20, 'success': 9, 'past': None}, 'fouls': {'drawn': 12, 'committed': 3}, 'cards': {'yellow': 1, 'yellowred': 0, 'red': 0}, 'penalty': {'won': None, 'commited': None, 'scored': 0, 'missed': 0, 'saved': None}}]}, {'player': {'id': 302, 'name': 'Roberto Firmino', 'firstname': 'Roberto Firmino', 'lastname': 'Barbosa de Oliveira', 'age': 31, 'birth': {'date': '1991-10-02', 'place': 'Maceió', 'country': 'Brazil'}, 'nationality': 'Brazil', 'height': '181 cm', 'weight': '76 kg', 'injured': False, 'photo': 'https://media.api-sports.io/football/players/302.png'}, 'statistics': [{'team': {'id': 40, 'name': 'Liverpool', 'logo': 'https://media.api-sports.io/football/teams/40.png'}, 'league': {'id': 39, 'name': 'Premier League', 'country': 'England', 'logo': 'https://media.api-sports.io/football/leagues/39.png', 'flag': 'https://media.api-sports.io/flags/gb.svg', 'season': 2022}, 'games': {'appearences': 11, 'lineups': 9, 'minutes': 786, 'number': None, 'position': 'Attacker', 'rating': '7.436363', 'captain': False}, 'substitutes': {'in': 2, 'out': 6, 'bench': 2}, 'shots': {'total': 23, 'on': 18}, 'goals': {'total': 6, 'conceded': 0, 'assists': 3, 'saves': None}, 'passes': {'total': 350, 'key': 17, 'accuracy': 24}, 'tackles': {'total': 13, 'blocks': 1, 'interceptions': 4}, 'duels': {'total': 86, 'won': 35}, 'dribbles': {'attempts': 11, 'success': 5, 'past': None}, 'fouls': {'drawn': 4, 'committed': 4}, 'cards': {'yellow': 0, 'yellowred': 0, 'red': 0}, 'penalty': {'won': None, 'commited': None, 'scored': 0, 'missed': 0, 'saved': None}}]}, {'player': {'id': 18784, 'name': 'J. Maddison', 'firstname': 'James Daniel', 'lastname': 'Maddison', 'age': 26, 'birth': {'date': '1996-11-23', 'place': 'Coventry', 'country': 'England'}, 'nationality': 'England', 'height': '175 cm', 'weight': '73 kg', 'injured': False, 'photo': 'https://media.api-sports.io/football/players/18784.png'}, 'statistics': [{'team': {'id': 46, 'name': 'Leicester', 'logo': 'https://media.api-sports.io/football/teams/46.png'}, 'league': {'id': 39, 'name': 'Premier League', 'country': 'England', 'logo': 'https://media.api-sports.io/football/leagues/39.png', 'flag': 'https://media.api-sports.io/flags/gb.svg', 'season': 2022}, 'games': {'appearences': 11, 'lineups': 11, 'minutes': 985, 'number': None, 'position': 'Midfielder', 'rating': '7.481818', 'captain': False}, 'substitutes': {'in': 0, 'out': 1, 'bench': 0}, 'shots': {'total': 20, 'on': 12}, 'goals': {'total': 6, 'conceded': 0, 'assists': 2, 'saves': None}, 'passes': {'total': 473, 'key': 27, 'accuracy': 35}, 'tackles': {'total': 25, 'blocks': None, 'interceptions': 7}, 'duels': {'total': 112, 'won': 58}, 'dribbles': {'attempts': 14, 'success': 4, 'past': None}, 'fouls': {'drawn': 27, 'committed': 15}, 'cards': {'yellow': 5, 'yellowred': 0, 'red': 0}, 'penalty': {'won': None, 'commited': None, 'scored': 0, 'missed': 0, 'saved': None}}]}, {'player': {'id': 935, 'name': 'Rodrigo', 'firstname': 'Rodrigo', 'lastname': 'Moreno Machado', 'age': 31, 'birth': {'date': '1991-03-06', 'place': 'Rio de Janeiro', 'country': 'Brazil'}, 'nationality': 'Spain', 'height': '182 cm', 'weight': '77 kg', 'injured': False, 'photo': 'https://media.api-sports.io/football/players/935.png'}, 'statistics': [{'team': {'id': 63, 'name': 'Leeds', 'logo': 'https://media.api-sports.io/football/teams/63.png'}, 'league': {'id': 39, 'name': 'Premier League', 'country': 'England', 'logo': 'https://media.api-sports.io/football/leagues/39.png', 'flag': 'https://media.api-sports.io/flags/gb.svg', 'season': 2022}, 'games': {'appearences': 11, 'lineups': 10, 'minutes': 724, 'number': None, 'position': 'Attacker', 'rating': '6.972727', 'captain': False}, 'substitutes': {'in': 1, 'out': 7, 'bench': 1}, 'shots': {'total': 21, 'on': 11}, 'goals': {'total': 6, 'conceded': 0, 'assists': 1, 'saves': None}, 'passes': {'total': 212, 'key': 10, 'accuracy': 13}, 'tackles': {'total': 8, 'blocks': 1, 'interceptions': 2}, 'duels': {'total': 85, 'won': 26}, 'dribbles': {'attempts': 10, 'success': 4, 'past': None}, 'fouls': {'drawn': 2, 'committed': 13}, 'cards': {'yellow': 1, 'yellowred': 0, 'red': 0}, 'penalty': {'won': None, 'commited': None, 'scored': 0, 'missed': 0, 'saved': None}}]}, {'player': {'id': 2939, 'name': 'C. Wilson', 'firstname': 'Callum Eddie Graham', 'lastname': 'Wilson', 'age': 30, 'birth': {'date': '1992-02-27', 'place': 'Coventry', 'country': 'England'}, 'nationality': 'England', 'height': '180 cm', 'weight': '66 kg', 'injured': False, 'photo': 'https://media.api-sports.io/football/players/2939.png'}, 'statistics': [{'team': {'id': 34, 'name': 'Newcastle', 'logo': 'https://media.api-sports.io/football/teams/34.png'}, 'league': {'id': 39, 'name': 'Premier League', 'country': 'England', 'logo': 'https://media.api-sports.io/football/leagues/39.png', 'flag': 'https://media.api-sports.io/flags/gb.svg', 'season': 2022}, 'games': {'appearences': 9, 'lineups': 9, 'minutes': 735, 'number': None, 'position': 'Attacker', 'rating': '7.111111', 'captain': False}, 'substitutes': {'in': 0, 'out': 9, 'bench': 0}, 'shots': {'total': 23, 'on': 11}, 'goals': {'total': 6, 'conceded': 0, 'assists': 2, 'saves': None}, 'passes': {'total': 93, 'key': 10, 'accuracy': 7}, 'tackles': {'total': 4, 'blocks': None, 'interceptions': 1}, 'duels': {'total': 59, 'won': 23}, 'dribbles': {'attempts': 3, 'success': 2, 'past': None}, 'fouls': {'drawn': 8, 'committed': 10}, 'cards': {'yellow': 1, 'yellowred': 0, 'red': 0}, 'penalty': {'won': None, 'commited': None, 'scored': 1, 'missed': 0, 'saved': None}}]}, {'player': {'id': 643, 'name': 'Gabriel Jesus', 'firstname': 'Gabriel Fernando', 'lastname': 'de Jesus', 'age': 25, 'birth': {'date': '1997-04-03', 'place': 'São Paulo', 'country': 'Brazil'}, 'nationality': 'Brazil', 'height': '175 cm', 'weight': '73 kg', 'injured': False, 'photo': 'https://media.api-sports.io/football/players/643.png'}, 'statistics': [{'team': {'id': 42, 'name': 'Arsenal', 'logo': 'https://media.api-sports.io/football/teams/42.png'}, 'league': {'id': 39, 'name': 'Premier League', 'country': 'England', 'logo': 'https://media.api-sports.io/football/leagues/39.png', 'flag': 'https://media.api-sports.io/flags/gb.svg', 'season': 2022}, 'games': {'appearences': 12, 'lineups': 12, 'minutes': 1046, 'number': None, 'position': 'Attacker', 'rating': '7.108333', 'captain': False}, 'substitutes': {'in': 0, 'out': 7, 'bench': 0}, 'shots': {'total': 32, 'on': 19}, 'goals': {'total': 5, 'conceded': 0, 'assists': 5, 'saves': None}, 'passes': {'total': 332, 'key': 20, 'accuracy': 22}, 'tackles': {'total': 16, 'blocks': 2, 'interceptions': 4}, 'duels': {'total': 217, 'won': 91}, 'dribbles': {'attempts': 49, 'success': 23, 'past': None}, 'fouls': {'drawn': 32, 'committed': 21}, 'cards': {'yellow': 4, 'yellowred': 0, 'red': 0}, 'penalty': {'won': None, 'commited': None, 'scored': 0, 'missed': 0, 'saved': None}}]}, {'player': {'id': 127769, 'name': 'Gabriel Martinelli', 'firstname': 'Gabriel Teodoro', 'lastname': 'Martinelli Silva', 'age': 21, 'birth': {'date': '2001-06-18', 'place': 'Guarulhos', 'country': 'Brazil'}, 'nationality': 'Brazil', 'height': '178 cm', 'weight': '75 kg', 'injured': False, 'photo': 'https://media.api-sports.io/football/players/127769.png'}, 'statistics': [{'team': {'id': 42, 'name': 'Arsenal', 'logo': 'https://media.api-sports.io/football/teams/42.png'}, 'league': {'id': 39, 'name': 'Premier League', 'country': 'England', 'logo': 'https://media.api-sports.io/football/leagues/39.png', 'flag': 'https://media.api-sports.io/flags/gb.svg', 'season': 2022}, 'games': {'appearences': 12, 'lineups': 12, 'minutes': 1007, 'number': None, 'position': 'Attacker', 'rating': '7.216666', 'captain': False}, 'substitutes': {'in': 0, 'out': 4, 'bench': 0}, 'shots': {'total': 21, 'on': 13}, 'goals': {'total': 5, 'conceded': 0, 'assists': 2, 'saves': None}, 'passes': {'total': 338, 'key': 22, 'accuracy': 23}, 'tackles': {'total': 11, 'blocks': None, 'interceptions': 6}, 'duels': {'total': 137, 'won': 55}, 'dribbles': {'attempts': 43, 'success': 25, 'past': None}, 'fouls': {'drawn': 16, 'committed': 19}, 'cards': {'yellow': 1, 'yellowred': 0, 'red': 0}, 'penalty': {'won': None, 'commited': None, 'scored': 0, 'missed': 0, 'saved': None}}]}, {'player': {'id': 3247, 'name': 'W. Zaha', 'firstname': 'Dazet Wilfried', 'lastname': 'Armel Zaha', 'age': 30, 'birth': {'date': '1992-11-10', 'place': 'Abidjan', 'country': \"Côte d'Ivoire\"}, 'nationality': \"Côte d'Ivoire\", 'height': '180 cm', 'weight': '66 kg', 'injured': False, 'photo': 'https://media.api-sports.io/football/players/3247.png'}, 'statistics': [{'team': {'id': 52, 'name': 'Crystal Palace', 'logo': 'https://media.api-sports.io/football/teams/52.png'}, 'league': {'id': 39, 'name': 'Premier League', 'country': 'England', 'logo': 'https://media.api-sports.io/football/leagues/39.png', 'flag': 'https://media.api-sports.io/flags/gb.svg', 'season': 2022}, 'games': {'appearences': 11, 'lineups': 11, 'minutes': 969, 'number': None, 'position': 'Attacker', 'rating': '6.963636', 'captain': False}, 'substitutes': {'in': 0, 'out': 2, 'bench': 0}, 'shots': {'total': 19, 'on': 13}, 'goals': {'total': 5, 'conceded': 0, 'assists': 1, 'saves': None}, 'passes': {'total': 277, 'key': 13, 'accuracy': 20}, 'tackles': {'total': 22, 'blocks': None, 'interceptions': 6}, 'duels': {'total': 182, 'won': 87}, 'dribbles': {'attempts': 55, 'success': 25, 'past': None}, 'fouls': {'drawn': 36, 'committed': 11}, 'cards': {'yellow': 3, 'yellowred': 0, 'red': 0}, 'penalty': {'won': None, 'commited': None, 'scored': 0, 'missed': 1, 'saved': None}}]}, {'player': {'id': 306, 'name': 'Mohamed Salah', 'firstname': 'Mohamed', 'lastname': 'Salah Hamed Mahrous Ghaly', 'age': 30, 'birth': {'date': '1992-06-15', 'place': 'Muḥāfaẓat al Gharbiyya', 'country': 'Egypt'}, 'nationality': 'Egypt', 'height': '175 cm', 'weight': '71 kg', 'injured': False, 'photo': 'https://media.api-sports.io/football/players/306.png'}, 'statistics': [{'team': {'id': 40, 'name': 'Liverpool', 'logo': 'https://media.api-sports.io/football/teams/40.png'}, 'league': {'id': 39, 'name': 'Premier League', 'country': 'England', 'logo': 'https://media.api-sports.io/football/leagues/39.png', 'flag': 'https://media.api-sports.io/flags/gb.svg', 'season': 2022}, 'games': {'appearences': 12, 'lineups': 12, 'minutes': 1059, 'number': None, 'position': 'Attacker', 'rating': '6.783333', 'captain': False}, 'substitutes': {'in': 0, 'out': 2, 'bench': 0}, 'shots': {'total': 34, 'on': 15}, 'goals': {'total': 4, 'conceded': 0, 'assists': 3, 'saves': None}, 'passes': {'total': 292, 'key': 29, 'accuracy': 18}, 'tackles': {'total': 3, 'blocks': None, 'interceptions': 2}, 'duels': {'total': 104, 'won': 25}, 'dribbles': {'attempts': 42, 'success': 14, 'past': None}, 'fouls': {'drawn': 6, 'committed': 8}, 'cards': {'yellow': 0, 'yellowred': 0, 'red': 0}, 'penalty': {'won': None, 'commited': None, 'scored': 0, 'missed': 0, 'saved': None}}]}, {'player': {'id': 909, 'name': 'M. Rashford', 'firstname': 'Marcus', 'lastname': 'Rashford', 'age': 25, 'birth': {'date': '1997-10-31', 'place': 'Manchester', 'country': 'England'}, 'nationality': 'England', 'height': '180 cm', 'weight': '70 kg', 'injured': False, 'photo': 'https://media.api-sports.io/football/players/909.png'}, 'statistics': [{'team': {'id': 33, 'name': 'Manchester United', 'logo': 'https://media.api-sports.io/football/teams/33.png'}, 'league': {'id': 39, 'name': 'Premier League', 'country': 'England', 'logo': 'https://media.api-sports.io/football/leagues/39.png', 'flag': 'https://media.api-sports.io/flags/gb.svg', 'season': 2022}, 'games': {'appearences': 12, 'lineups': 11, 'minutes': 950, 'number': None, 'position': 'Attacker', 'rating': '6.908333', 'captain': False}, 'substitutes': {'in': 1, 'out': 5, 'bench': 1}, 'shots': {'total': 20, 'on': 11}, 'goals': {'total': 4, 'conceded': 0, 'assists': 2, 'saves': None}, 'passes': {'total': 251, 'key': 10, 'accuracy': 15}, 'tackles': {'total': 7, 'blocks': 1, 'interceptions': 2}, 'duels': {'total': 97, 'won': 41}, 'dribbles': {'attempts': 27, 'success': 15, 'past': None}, 'fouls': {'drawn': 7, 'committed': 5}, 'cards': {'yellow': 1, 'yellowred': 0, 'red': 0}, 'penalty': {'won': None, 'commited': None, 'scored': 0, 'missed': 0, 'saved': None}}]}, {'player': {'id': 18970, 'name': 'P. Groß', 'firstname': 'Pascal', 'lastname': 'Groß', 'age': 31, 'birth': {'date': '1991-06-15', 'place': 'Mannheim', 'country': 'Germany'}, 'nationality': 'Germany', 'height': '181 cm', 'weight': '78 kg', 'injured': False, 'photo': 'https://media.api-sports.io/football/players/18970.png'}, 'statistics': [{'team': {'id': 51, 'name': 'Brighton', 'logo': 'https://media.api-sports.io/football/teams/51.png'}, 'league': {'id': 39, 'name': 'Premier League', 'country': 'England', 'logo': 'https://media.api-sports.io/football/leagues/39.png', 'flag': 'https://media.api-sports.io/flags/gb.svg', 'season': 2022}, 'games': {'appearences': 12, 'lineups': 12, 'minutes': 1017, 'number': None, 'position': 'Midfielder', 'rating': '7.350000', 'captain': False}, 'substitutes': {'in': 0, 'out': 5, 'bench': 0}, 'shots': {'total': 12, 'on': 8}, 'goals': {'total': 4, 'conceded': 0, 'assists': 2, 'saves': None}, 'passes': {'total': 424, 'key': 26, 'accuracy': 26}, 'tackles': {'total': 18, 'blocks': 3, 'interceptions': 4}, 'duels': {'total': 72, 'won': 27}, 'dribbles': {'attempts': 7, 'success': 3, 'past': None}, 'fouls': {'drawn': 5, 'committed': 7}, 'cards': {'yellow': 1, 'yellowred': 0, 'red': 0}, 'penalty': {'won': None, 'commited': None, 'scored': 0, 'missed': 0, 'saved': None}}]}, {'player': {'id': 37127, 'name': 'M. Ødegaard', 'firstname': 'Martin', 'lastname': 'Ødegaard', 'age': 24, 'birth': {'date': '1998-12-17', 'place': 'Drammen', 'country': 'Norway'}, 'nationality': 'Norway', 'height': '178 cm', 'weight': '68 kg', 'injured': False, 'photo': 'https://media.api-sports.io/football/players/37127.png'}, 'statistics': [{'team': {'id': 42, 'name': 'Arsenal', 'logo': 'https://media.api-sports.io/football/teams/42.png'}, 'league': {'id': 39, 'name': 'Premier League', 'country': 'England', 'logo': 'https://media.api-sports.io/football/leagues/39.png', 'flag': 'https://media.api-sports.io/flags/gb.svg', 'season': 2022}, 'games': {'appearences': 11, 'lineups': 11, 'minutes': 906, 'number': None, 'position': 'Midfielder', 'rating': '7.363636', 'captain': False}, 'substitutes': {'in': 0, 'out': 9, 'bench': 0}, 'shots': {'total': 15, 'on': 11}, 'goals': {'total': 4, 'conceded': 0, 'assists': 2, 'saves': None}, 'passes': {'total': 472, 'key': 23, 'accuracy': 34}, 'tackles': {'total': 10, 'blocks': None, 'interceptions': 2}, 'duels': {'total': 79, 'won': 35}, 'dribbles': {'attempts': 19, 'success': 13, 'past': None}, 'fouls': {'drawn': 7, 'committed': 8}, 'cards': {'yellow': 2, 'yellowred': 0, 'red': 0}, 'penalty': {'won': None, 'commited': None, 'scored': 0, 'missed': 0, 'saved': None}}]}, {'player': {'id': 18778, 'name': 'H. Barnes', 'firstname': 'Harvey Lewis', 'lastname': 'Barnes', 'age': 25, 'birth': {'date': '1997-12-09', 'place': 'Burnley', 'country': 'England'}, 'nationality': 'England', 'height': '174 cm', 'weight': '66 kg', 'injured': False, 'photo': 'https://media.api-sports.io/football/players/18778.png'}, 'statistics': [{'team': {'id': 46, 'name': 'Leicester', 'logo': 'https://media.api-sports.io/football/teams/46.png'}, 'league': {'id': 39, 'name': 'Premier League', 'country': 'England', 'logo': 'https://media.api-sports.io/football/leagues/39.png', 'flag': 'https://media.api-sports.io/flags/gb.svg', 'season': 2022}, 'games': {'appearences': 11, 'lineups': 11, 'minutes': 911, 'number': None, 'position': 'Midfielder', 'rating': '6.636363', 'captain': False}, 'substitutes': {'in': 0, 'out': 5, 'bench': 0}, 'shots': {'total': 19, 'on': 11}, 'goals': {'total': 4, 'conceded': 0, 'assists': None, 'saves': None}, 'passes': {'total': 245, 'key': 4, 'accuracy': 17}, 'tackles': {'total': 10, 'blocks': None, 'interceptions': 2}, 'duels': {'total': 108, 'won': 38}, 'dribbles': {'attempts': 25, 'success': 8, 'past': None}, 'fouls': {'drawn': 13, 'committed': 9}, 'cards': {'yellow': 0, 'yellowred': 0, 'red': 0}, 'penalty': {'won': None, 'commited': None, 'scored': 0, 'missed': 0, 'saved': None}}]}, {'player': {'id': 1460, 'name': 'B. Saka', 'firstname': 'Bukayo', 'lastname': 'Ayoyinka Saka', 'age': 21, 'birth': {'date': '2001-09-05', 'place': 'London', 'country': 'England'}, 'nationality': 'England', 'height': '178 cm', 'weight': '65 kg', 'injured': False, 'photo': 'https://media.api-sports.io/football/players/1460.png'}, 'statistics': [{'team': {'id': 42, 'name': 'Arsenal', 'logo': 'https://media.api-sports.io/football/teams/42.png'}, 'league': {'id': 39, 'name': 'Premier League', 'country': 'England', 'logo': 'https://media.api-sports.io/football/leagues/39.png', 'flag': 'https://media.api-sports.io/flags/gb.svg', 'season': 2022}, 'games': {'appearences': 12, 'lineups': 12, 'minutes': 999, 'number': None, 'position': 'Midfielder', 'rating': '7.250000', 'captain': False}, 'substitutes': {'in': 0, 'out': 7, 'bench': 0}, 'shots': {'total': 19, 'on': 9}, 'goals': {'total': 4, 'conceded': 0, 'assists': 5, 'saves': None}, 'passes': {'total': 369, 'key': 24, 'accuracy': 25}, 'tackles': {'total': 13, 'blocks': None, 'interceptions': 8}, 'duels': {'total': 114, 'won': 50}, 'dribbles': {'attempts': 37, 'success': 16, 'past': None}, 'fouls': {'drawn': 17, 'committed': 15}, 'cards': {'yellow': 2, 'yellowred': 0, 'red': 0}, 'penalty': {'won': None, 'commited': None, 'scored': 1, 'missed': 0, 'saved': None}}]}]}\n"
     ]
    }
   ],
   "source": [
    "import requests\n",
    "\n",
    "url = \"https://api-football-beta.p.rapidapi.com/players/topscorers\"\n",
    "\n",
    "querystring = {\"season\":\"2022\",\"league\":\"39\"}\n",
    "\n",
    "headers = {\n",
    "\t\"X-RapidAPI-Key\": \"62a02ca5ccmsha68a5acf6c698d9p1ffc12jsnbe2b9a765139\",\n",
    "\t\"X-RapidAPI-Host\": \"api-football-beta.p.rapidapi.com\"\n",
    "}\n",
    "\n",
    "response = requests.request(\"GET\", url, headers=headers, params=querystring)\n",
    "\n",
    "print (type(response.json()))\n",
    "print(response.json())\n",
    "df = response.json()"
   ]
  },
  {
   "cell_type": "code",
   "execution_count": 3,
   "id": "17f01de6",
   "metadata": {},
   "outputs": [
    {
     "data": {
      "text/plain": [
       "dict_keys(['player', 'statistics'])"
      ]
     },
     "execution_count": 3,
     "metadata": {},
     "output_type": "execute_result"
    }
   ],
   "source": [
    "df['response'][2].keys()"
   ]
  },
  {
   "cell_type": "code",
   "execution_count": 4,
   "id": "8056574e",
   "metadata": {},
   "outputs": [
    {
     "data": {
      "text/plain": [
       "{'id': 2825,\n",
       " 'name': 'A. Mitrović',\n",
       " 'firstname': 'Aleksandar',\n",
       " 'lastname': 'Mitrović',\n",
       " 'age': 28,\n",
       " 'birth': {'date': '1994-09-16', 'place': 'Smederevo', 'country': 'Serbia'},\n",
       " 'nationality': 'Serbia',\n",
       " 'height': '187 cm',\n",
       " 'weight': '90 kg',\n",
       " 'injured': False,\n",
       " 'photo': 'https://media.api-sports.io/football/players/2825.png'}"
      ]
     },
     "execution_count": 4,
     "metadata": {},
     "output_type": "execute_result"
    }
   ],
   "source": [
    "c1 = df['response'][2]['player']\n",
    "c1"
   ]
  },
  {
   "cell_type": "code",
   "execution_count": 5,
   "id": "a474aba0",
   "metadata": {
    "scrolled": true
   },
   "outputs": [
    {
     "name": "stdout",
     "output_type": "stream",
     "text": [
      "defaultdict(<class 'list'>, {'id': [1100, 184, 2825, 19974, 1946, 2507, 631, 302], 'name': ['E. Haaland', 'H. Kane', 'A. Mitrović', 'I. Toney', 'L. Trossard', 'M. Almirón', 'P. Foden', 'Roberto Firmino'], 'firstname': ['Erling', 'Harry Edward', 'Aleksandar', 'Ivan', 'Leandro', 'Miguel Ángel', 'Philip Walter', 'Roberto Firmino'], 'lastname': ['Braut Haaland', 'Kane', 'Mitrović', 'Toney', 'Trossard', 'Almirón Rejala', 'Foden', 'Barbosa de Oliveira'], 'age': [22, 29, 28, 26, 28, 28, 22, 31], 'birth': [{'date': '2000-07-21', 'place': 'Leeds', 'country': 'England'}, {'date': '1993-07-28', 'place': 'London', 'country': 'England'}, {'date': '1994-09-16', 'place': 'Smederevo', 'country': 'Serbia'}, {'date': '1996-03-16', 'place': 'Northampton', 'country': 'England'}, {'date': '1994-12-04', 'place': 'Waterschei', 'country': 'Belgium'}, {'date': '1994-02-10', 'place': 'Asunción', 'country': 'Paraguay'}, {'date': '2000-05-28', 'place': 'Stockport', 'country': 'England'}, {'date': '1991-10-02', 'place': 'Maceió', 'country': 'Brazil'}], 'nationality': ['Norway', 'England', 'Serbia', 'England', 'Belgium', 'Paraguay', 'England', 'Brazil'], 'height': ['194 cm', '188 cm', '187 cm', '179 cm', '171 cm', '174 cm', '171 cm', '181 cm'], 'weight': ['88 kg', '86 kg', '90 kg', '70 kg', '61 kg', '63 kg', '70 kg', '76 kg'], 'injured': [False, False, False, False, False, False, False, False], 'photo': ['https://media.api-sports.io/football/players/1100.png', 'https://media.api-sports.io/football/players/184.png', 'https://media.api-sports.io/football/players/2825.png', 'https://media.api-sports.io/football/players/19974.png', 'https://media.api-sports.io/football/players/1946.png', 'https://media.api-sports.io/football/players/2507.png', 'https://media.api-sports.io/football/players/631.png', 'https://media.api-sports.io/football/players/302.png']})\n"
     ]
    }
   ],
   "source": [
    "#from collections import defaultdict\n",
    "\n",
    "d0 = df['response'][0]['player']\n",
    "d1 = df['response'][1]['player']\n",
    "d2 = df['response'][2]['player']\n",
    "d3 = df['response'][3]['player']\n",
    "d4 = df['response'][4]['player']\n",
    "d5 = df['response'][5]['player']\n",
    "d6 = df['response'][6]['player']\n",
    "d7 = df['response'][7]['player']\n",
    "\n",
    "gg = defaultdict(list)\n",
    "\n",
    "for d in (d0, d1, d2, d3, d4, d5, d6, d7): # you can list as many input dicts as you want here\n",
    "    for key, value in d.items():\n",
    "        gg[key].append(value)\n",
    "    \n",
    "print(gg) # result: defaultdict(<type 'list'>, {1: [2, 6], 3: [4, 7]})"
   ]
  },
  {
   "cell_type": "code",
   "execution_count": null,
   "id": "d5cb9d3e",
   "metadata": {},
   "outputs": [],
   "source": []
  },
  {
   "cell_type": "code",
   "execution_count": 6,
   "id": "8b39e7c7",
   "metadata": {},
   "outputs": [
    {
     "data": {
      "text/plain": [
       "'E. Haaland'"
      ]
     },
     "execution_count": 6,
     "metadata": {},
     "output_type": "execute_result"
    }
   ],
   "source": [
    "gg['name'][0]"
   ]
  },
  {
   "cell_type": "code",
   "execution_count": 7,
   "id": "b2e340a2",
   "metadata": {
    "scrolled": true
   },
   "outputs": [
    {
     "data": {
      "text/plain": [
       "[{'team': {'id': 36,\n",
       "   'name': 'Fulham',\n",
       "   'logo': 'https://media.api-sports.io/football/teams/36.png'},\n",
       "  'league': {'id': 39,\n",
       "   'name': 'Premier League',\n",
       "   'country': 'England',\n",
       "   'logo': 'https://media.api-sports.io/football/leagues/39.png',\n",
       "   'flag': 'https://media.api-sports.io/flags/gb.svg',\n",
       "   'season': 2022},\n",
       "  'games': {'appearences': 12,\n",
       "   'lineups': 12,\n",
       "   'minutes': 1021,\n",
       "   'number': None,\n",
       "   'position': 'Attacker',\n",
       "   'rating': '7.333333',\n",
       "   'captain': False},\n",
       "  'substitutes': {'in': 0, 'out': 5, 'bench': 0},\n",
       "  'shots': {'total': 45, 'on': 22},\n",
       "  'goals': {'total': 9, 'conceded': 0, 'assists': None, 'saves': None},\n",
       "  'passes': {'total': 236, 'key': 11, 'accuracy': 11},\n",
       "  'tackles': {'total': 9, 'blocks': 3, 'interceptions': 1},\n",
       "  'duels': {'total': 206, 'won': 99},\n",
       "  'dribbles': {'attempts': 24, 'success': 13, 'past': None},\n",
       "  'fouls': {'drawn': 15, 'committed': 13},\n",
       "  'cards': {'yellow': 4, 'yellowred': 0, 'red': 0},\n",
       "  'penalty': {'won': None,\n",
       "   'commited': None,\n",
       "   'scored': 3,\n",
       "   'missed': 1,\n",
       "   'saved': None}}]"
      ]
     },
     "execution_count": 7,
     "metadata": {},
     "output_type": "execute_result"
    }
   ],
   "source": [
    "c1 = df['response'][2]['statistics']\n",
    "c1"
   ]
  },
  {
   "cell_type": "code",
   "execution_count": 25,
   "id": "60889a95",
   "metadata": {},
   "outputs": [
    {
     "name": "stdout",
     "output_type": "stream",
     "text": [
      "I know a lot about football, if you want I can tell you about some of the top scorers in the premiere league. So what do you say, Yes or No? Yes\n",
      "Here are the names of some of the top scorers I know, Choose any of those names and I'll tell you all about them\n",
      "['E. Haaland', 'H. Kane', 'A. Mitrović', 'I. Toney', 'L. Trossard', 'M. Almirón', 'P. Foden', 'Roberto Firmino']\n",
      "So what's your choice E. Haaland\n",
      "Ah yesE. Haaland\n"
     ]
    }
   ],
   "source": [
    "askq = input(\"I know a lot about football, if you want I can tell you about some of the top scorers in the premiere league. So what do you say, Yes or No? \")\n",
    "\n",
    "if askq =='yes' or askq == 'Yes':\n",
    "    print(\"Here are the names of some of the top scorers I know, Choose any of those names and I'll tell you all about them\")\n",
    "    print(gg['name'])\n",
    "    playerchoose = input(\"So what's your choice \")\n",
    "    print('Ah yes' + playerchoose + '. In this season he has scored')\n",
    "\n",
    "\n",
    "\n",
    "else:\n",
    "    print(\"Ok if you don't want to talk about them, we can talk about something else\")"
   ]
  },
  {
   "cell_type": "code",
   "execution_count": 22,
   "id": "b2beb717",
   "metadata": {},
   "outputs": [
    {
     "name": "stdout",
     "output_type": "stream",
     "text": [
      "{'total': 9, 'conceded': 0, 'assists': None, 'saves': None}\n"
     ]
    }
   ],
   "source": [
    "print(c1[0]['goals'])"
   ]
  },
  {
   "cell_type": "code",
   "execution_count": 23,
   "id": "3f74f1c1",
   "metadata": {
    "scrolled": true
   },
   "outputs": [
    {
     "data": {
      "text/plain": [
       "[{'team': {'id': 36,\n",
       "   'name': 'Fulham',\n",
       "   'logo': 'https://media.api-sports.io/football/teams/36.png'},\n",
       "  'league': {'id': 39,\n",
       "   'name': 'Premier League',\n",
       "   'country': 'England',\n",
       "   'logo': 'https://media.api-sports.io/football/leagues/39.png',\n",
       "   'flag': 'https://media.api-sports.io/flags/gb.svg',\n",
       "   'season': 2022},\n",
       "  'games': {'appearences': 12,\n",
       "   'lineups': 12,\n",
       "   'minutes': 1021,\n",
       "   'number': None,\n",
       "   'position': 'Attacker',\n",
       "   'rating': '7.333333',\n",
       "   'captain': False},\n",
       "  'substitutes': {'in': 0, 'out': 5, 'bench': 0},\n",
       "  'shots': {'total': 45, 'on': 22},\n",
       "  'goals': {'total': 9, 'conceded': 0, 'assists': None, 'saves': None},\n",
       "  'passes': {'total': 236, 'key': 11, 'accuracy': 11},\n",
       "  'tackles': {'total': 9, 'blocks': 3, 'interceptions': 1},\n",
       "  'duels': {'total': 206, 'won': 99},\n",
       "  'dribbles': {'attempts': 24, 'success': 13, 'past': None},\n",
       "  'fouls': {'drawn': 15, 'committed': 13},\n",
       "  'cards': {'yellow': 4, 'yellowred': 0, 'red': 0},\n",
       "  'penalty': {'won': None,\n",
       "   'commited': None,\n",
       "   'scored': 3,\n",
       "   'missed': 1,\n",
       "   'saved': None}}]"
      ]
     },
     "execution_count": 23,
     "metadata": {},
     "output_type": "execute_result"
    }
   ],
   "source": [
    "c1"
   ]
  },
  {
   "cell_type": "code",
   "execution_count": null,
   "id": "77e4296b",
   "metadata": {},
   "outputs": [],
   "source": []
  }
 ],
 "metadata": {
  "kernelspec": {
   "display_name": "Python 3 (ipykernel)",
   "language": "python",
   "name": "python3"
  },
  "language_info": {
   "codemirror_mode": {
    "name": "ipython",
    "version": 3
   },
   "file_extension": ".py",
   "mimetype": "text/x-python",
   "name": "python",
   "nbconvert_exporter": "python",
   "pygments_lexer": "ipython3",
   "version": "3.9.12"
  }
 },
 "nbformat": 4,
 "nbformat_minor": 5
}
